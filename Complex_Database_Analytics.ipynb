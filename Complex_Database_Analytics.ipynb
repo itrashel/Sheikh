{
  "nbformat": 4,
  "nbformat_minor": 0,
  "metadata": {
    "colab": {
      "provenance": [],
      "mount_file_id": "1NKZU2rdMBJnse0dSxwh2u8rBnZjxrOut",
      "authorship_tag": "ABX9TyM26w6VstuCHIP0E2Az9/La",
      "include_colab_link": true
    },
    "kernelspec": {
      "name": "python3",
      "display_name": "Python 3"
    },
    "language_info": {
      "name": "python"
    }
  },
  "cells": [
    {
      "cell_type": "markdown",
      "metadata": {
        "id": "view-in-github",
        "colab_type": "text"
      },
      "source": [
        "<a href=\"https://colab.research.google.com/github/itrashel1/Sheikh/blob/master/Complex_Database_Analytics.ipynb\" target=\"_parent\"><img src=\"https://colab.research.google.com/assets/colab-badge.svg\" alt=\"Open In Colab\"/></a>"
      ]
    },
    {
      "cell_type": "code",
      "source": [
        "!pip install pandas numpy"
      ],
      "metadata": {
        "colab": {
          "base_uri": "https://localhost:8080/"
        },
        "id": "kOvMWyVc7I3F",
        "outputId": "9e814e49-2db8-4786-9cd5-a136700e3cde"
      },
      "execution_count": 8,
      "outputs": [
        {
          "output_type": "stream",
          "name": "stdout",
          "text": [
            "Requirement already satisfied: pandas in /usr/local/lib/python3.10/dist-packages (2.2.2)\n",
            "Requirement already satisfied: numpy in /usr/local/lib/python3.10/dist-packages (1.26.4)\n",
            "Requirement already satisfied: python-dateutil>=2.8.2 in /usr/local/lib/python3.10/dist-packages (from pandas) (2.8.2)\n",
            "Requirement already satisfied: pytz>=2020.1 in /usr/local/lib/python3.10/dist-packages (from pandas) (2024.2)\n",
            "Requirement already satisfied: tzdata>=2022.7 in /usr/local/lib/python3.10/dist-packages (from pandas) (2024.2)\n",
            "Requirement already satisfied: six>=1.5 in /usr/local/lib/python3.10/dist-packages (from python-dateutil>=2.8.2->pandas) (1.16.0)\n"
          ]
        }
      ]
    },
    {
      "cell_type": "code",
      "source": [
        "from google.colab import files\n",
        "\n",
        "uploaded = files.upload()"
      ],
      "metadata": {
        "colab": {
          "base_uri": "https://localhost:8080/",
          "height": 73
        },
        "id": "C3XR93EDJdGc",
        "outputId": "08c63138-e662-4d00-f2e5-6a79e555ad48"
      },
      "execution_count": 3,
      "outputs": [
        {
          "output_type": "display_data",
          "data": {
            "text/plain": [
              "<IPython.core.display.HTML object>"
            ],
            "text/html": [
              "\n",
              "     <input type=\"file\" id=\"files-f1bb64a2-5d31-48b6-859a-b3f25609c96f\" name=\"files[]\" multiple disabled\n",
              "        style=\"border:none\" />\n",
              "     <output id=\"result-f1bb64a2-5d31-48b6-859a-b3f25609c96f\">\n",
              "      Upload widget is only available when the cell has been executed in the\n",
              "      current browser session. Please rerun this cell to enable.\n",
              "      </output>\n",
              "      <script>// Copyright 2017 Google LLC\n",
              "//\n",
              "// Licensed under the Apache License, Version 2.0 (the \"License\");\n",
              "// you may not use this file except in compliance with the License.\n",
              "// You may obtain a copy of the License at\n",
              "//\n",
              "//      http://www.apache.org/licenses/LICENSE-2.0\n",
              "//\n",
              "// Unless required by applicable law or agreed to in writing, software\n",
              "// distributed under the License is distributed on an \"AS IS\" BASIS,\n",
              "// WITHOUT WARRANTIES OR CONDITIONS OF ANY KIND, either express or implied.\n",
              "// See the License for the specific language governing permissions and\n",
              "// limitations under the License.\n",
              "\n",
              "/**\n",
              " * @fileoverview Helpers for google.colab Python module.\n",
              " */\n",
              "(function(scope) {\n",
              "function span(text, styleAttributes = {}) {\n",
              "  const element = document.createElement('span');\n",
              "  element.textContent = text;\n",
              "  for (const key of Object.keys(styleAttributes)) {\n",
              "    element.style[key] = styleAttributes[key];\n",
              "  }\n",
              "  return element;\n",
              "}\n",
              "\n",
              "// Max number of bytes which will be uploaded at a time.\n",
              "const MAX_PAYLOAD_SIZE = 100 * 1024;\n",
              "\n",
              "function _uploadFiles(inputId, outputId) {\n",
              "  const steps = uploadFilesStep(inputId, outputId);\n",
              "  const outputElement = document.getElementById(outputId);\n",
              "  // Cache steps on the outputElement to make it available for the next call\n",
              "  // to uploadFilesContinue from Python.\n",
              "  outputElement.steps = steps;\n",
              "\n",
              "  return _uploadFilesContinue(outputId);\n",
              "}\n",
              "\n",
              "// This is roughly an async generator (not supported in the browser yet),\n",
              "// where there are multiple asynchronous steps and the Python side is going\n",
              "// to poll for completion of each step.\n",
              "// This uses a Promise to block the python side on completion of each step,\n",
              "// then passes the result of the previous step as the input to the next step.\n",
              "function _uploadFilesContinue(outputId) {\n",
              "  const outputElement = document.getElementById(outputId);\n",
              "  const steps = outputElement.steps;\n",
              "\n",
              "  const next = steps.next(outputElement.lastPromiseValue);\n",
              "  return Promise.resolve(next.value.promise).then((value) => {\n",
              "    // Cache the last promise value to make it available to the next\n",
              "    // step of the generator.\n",
              "    outputElement.lastPromiseValue = value;\n",
              "    return next.value.response;\n",
              "  });\n",
              "}\n",
              "\n",
              "/**\n",
              " * Generator function which is called between each async step of the upload\n",
              " * process.\n",
              " * @param {string} inputId Element ID of the input file picker element.\n",
              " * @param {string} outputId Element ID of the output display.\n",
              " * @return {!Iterable<!Object>} Iterable of next steps.\n",
              " */\n",
              "function* uploadFilesStep(inputId, outputId) {\n",
              "  const inputElement = document.getElementById(inputId);\n",
              "  inputElement.disabled = false;\n",
              "\n",
              "  const outputElement = document.getElementById(outputId);\n",
              "  outputElement.innerHTML = '';\n",
              "\n",
              "  const pickedPromise = new Promise((resolve) => {\n",
              "    inputElement.addEventListener('change', (e) => {\n",
              "      resolve(e.target.files);\n",
              "    });\n",
              "  });\n",
              "\n",
              "  const cancel = document.createElement('button');\n",
              "  inputElement.parentElement.appendChild(cancel);\n",
              "  cancel.textContent = 'Cancel upload';\n",
              "  const cancelPromise = new Promise((resolve) => {\n",
              "    cancel.onclick = () => {\n",
              "      resolve(null);\n",
              "    };\n",
              "  });\n",
              "\n",
              "  // Wait for the user to pick the files.\n",
              "  const files = yield {\n",
              "    promise: Promise.race([pickedPromise, cancelPromise]),\n",
              "    response: {\n",
              "      action: 'starting',\n",
              "    }\n",
              "  };\n",
              "\n",
              "  cancel.remove();\n",
              "\n",
              "  // Disable the input element since further picks are not allowed.\n",
              "  inputElement.disabled = true;\n",
              "\n",
              "  if (!files) {\n",
              "    return {\n",
              "      response: {\n",
              "        action: 'complete',\n",
              "      }\n",
              "    };\n",
              "  }\n",
              "\n",
              "  for (const file of files) {\n",
              "    const li = document.createElement('li');\n",
              "    li.append(span(file.name, {fontWeight: 'bold'}));\n",
              "    li.append(span(\n",
              "        `(${file.type || 'n/a'}) - ${file.size} bytes, ` +\n",
              "        `last modified: ${\n",
              "            file.lastModifiedDate ? file.lastModifiedDate.toLocaleDateString() :\n",
              "                                    'n/a'} - `));\n",
              "    const percent = span('0% done');\n",
              "    li.appendChild(percent);\n",
              "\n",
              "    outputElement.appendChild(li);\n",
              "\n",
              "    const fileDataPromise = new Promise((resolve) => {\n",
              "      const reader = new FileReader();\n",
              "      reader.onload = (e) => {\n",
              "        resolve(e.target.result);\n",
              "      };\n",
              "      reader.readAsArrayBuffer(file);\n",
              "    });\n",
              "    // Wait for the data to be ready.\n",
              "    let fileData = yield {\n",
              "      promise: fileDataPromise,\n",
              "      response: {\n",
              "        action: 'continue',\n",
              "      }\n",
              "    };\n",
              "\n",
              "    // Use a chunked sending to avoid message size limits. See b/62115660.\n",
              "    let position = 0;\n",
              "    do {\n",
              "      const length = Math.min(fileData.byteLength - position, MAX_PAYLOAD_SIZE);\n",
              "      const chunk = new Uint8Array(fileData, position, length);\n",
              "      position += length;\n",
              "\n",
              "      const base64 = btoa(String.fromCharCode.apply(null, chunk));\n",
              "      yield {\n",
              "        response: {\n",
              "          action: 'append',\n",
              "          file: file.name,\n",
              "          data: base64,\n",
              "        },\n",
              "      };\n",
              "\n",
              "      let percentDone = fileData.byteLength === 0 ?\n",
              "          100 :\n",
              "          Math.round((position / fileData.byteLength) * 100);\n",
              "      percent.textContent = `${percentDone}% done`;\n",
              "\n",
              "    } while (position < fileData.byteLength);\n",
              "  }\n",
              "\n",
              "  // All done.\n",
              "  yield {\n",
              "    response: {\n",
              "      action: 'complete',\n",
              "    }\n",
              "  };\n",
              "}\n",
              "\n",
              "scope.google = scope.google || {};\n",
              "scope.google.colab = scope.google.colab || {};\n",
              "scope.google.colab._files = {\n",
              "  _uploadFiles,\n",
              "  _uploadFilesContinue,\n",
              "};\n",
              "})(self);\n",
              "</script> "
            ]
          },
          "metadata": {}
        },
        {
          "output_type": "stream",
          "name": "stdout",
          "text": [
            "Saving yoomix.csv to yoomix.csv\n"
          ]
        }
      ]
    },
    {
      "cell_type": "code",
      "source": [
        "!ls"
      ],
      "metadata": {
        "colab": {
          "base_uri": "https://localhost:8080/"
        },
        "id": "eAFmOJqPKFcL",
        "outputId": "94af02f7-4da8-4437-ee9a-d7102dfa6886"
      },
      "execution_count": 4,
      "outputs": [
        {
          "output_type": "stream",
          "name": "stdout",
          "text": [
            "sample_data  yoomix.csv\n"
          ]
        }
      ]
    },
    {
      "cell_type": "code",
      "source": [
        "df = pd.read_csv('yoomix.csv')\n",
        "print(df.head())"
      ],
      "metadata": {
        "colab": {
          "base_uri": "https://localhost:8080/",
          "height": 478
        },
        "id": "b1wvbFjXM4cy",
        "outputId": "20c04842-a188-4092-d5f4-1aaeeeae0bb0"
      },
      "execution_count": 6,
      "outputs": [
        {
          "output_type": "error",
          "ename": "ParserError",
          "evalue": "Error tokenizing data. C error: Expected 1 fields in line 3, saw 2\n",
          "traceback": [
            "\u001b[0;31m---------------------------------------------------------------------------\u001b[0m",
            "\u001b[0;31mParserError\u001b[0m                               Traceback (most recent call last)",
            "\u001b[0;32m<ipython-input-6-316315b50036>\u001b[0m in \u001b[0;36m<cell line: 1>\u001b[0;34m()\u001b[0m\n\u001b[0;32m----> 1\u001b[0;31m \u001b[0mdf\u001b[0m \u001b[0;34m=\u001b[0m \u001b[0mpd\u001b[0m\u001b[0;34m.\u001b[0m\u001b[0mread_csv\u001b[0m\u001b[0;34m(\u001b[0m\u001b[0;34m'yoomix.csv'\u001b[0m\u001b[0;34m)\u001b[0m\u001b[0;34m\u001b[0m\u001b[0;34m\u001b[0m\u001b[0m\n\u001b[0m\u001b[1;32m      2\u001b[0m \u001b[0mprint\u001b[0m\u001b[0;34m(\u001b[0m\u001b[0mdf\u001b[0m\u001b[0;34m.\u001b[0m\u001b[0mhead\u001b[0m\u001b[0;34m(\u001b[0m\u001b[0;34m)\u001b[0m\u001b[0;34m)\u001b[0m\u001b[0;34m\u001b[0m\u001b[0;34m\u001b[0m\u001b[0m\n",
            "\u001b[0;32m/usr/local/lib/python3.10/dist-packages/pandas/io/parsers/readers.py\u001b[0m in \u001b[0;36mread_csv\u001b[0;34m(filepath_or_buffer, sep, delimiter, header, names, index_col, usecols, dtype, engine, converters, true_values, false_values, skipinitialspace, skiprows, skipfooter, nrows, na_values, keep_default_na, na_filter, verbose, skip_blank_lines, parse_dates, infer_datetime_format, keep_date_col, date_parser, date_format, dayfirst, cache_dates, iterator, chunksize, compression, thousands, decimal, lineterminator, quotechar, quoting, doublequote, escapechar, comment, encoding, encoding_errors, dialect, on_bad_lines, delim_whitespace, low_memory, memory_map, float_precision, storage_options, dtype_backend)\u001b[0m\n\u001b[1;32m   1024\u001b[0m     \u001b[0mkwds\u001b[0m\u001b[0;34m.\u001b[0m\u001b[0mupdate\u001b[0m\u001b[0;34m(\u001b[0m\u001b[0mkwds_defaults\u001b[0m\u001b[0;34m)\u001b[0m\u001b[0;34m\u001b[0m\u001b[0;34m\u001b[0m\u001b[0m\n\u001b[1;32m   1025\u001b[0m \u001b[0;34m\u001b[0m\u001b[0m\n\u001b[0;32m-> 1026\u001b[0;31m     \u001b[0;32mreturn\u001b[0m \u001b[0m_read\u001b[0m\u001b[0;34m(\u001b[0m\u001b[0mfilepath_or_buffer\u001b[0m\u001b[0;34m,\u001b[0m \u001b[0mkwds\u001b[0m\u001b[0;34m)\u001b[0m\u001b[0;34m\u001b[0m\u001b[0;34m\u001b[0m\u001b[0m\n\u001b[0m\u001b[1;32m   1027\u001b[0m \u001b[0;34m\u001b[0m\u001b[0m\n\u001b[1;32m   1028\u001b[0m \u001b[0;34m\u001b[0m\u001b[0m\n",
            "\u001b[0;32m/usr/local/lib/python3.10/dist-packages/pandas/io/parsers/readers.py\u001b[0m in \u001b[0;36m_read\u001b[0;34m(filepath_or_buffer, kwds)\u001b[0m\n\u001b[1;32m    624\u001b[0m \u001b[0;34m\u001b[0m\u001b[0m\n\u001b[1;32m    625\u001b[0m     \u001b[0;32mwith\u001b[0m \u001b[0mparser\u001b[0m\u001b[0;34m:\u001b[0m\u001b[0;34m\u001b[0m\u001b[0;34m\u001b[0m\u001b[0m\n\u001b[0;32m--> 626\u001b[0;31m         \u001b[0;32mreturn\u001b[0m \u001b[0mparser\u001b[0m\u001b[0;34m.\u001b[0m\u001b[0mread\u001b[0m\u001b[0;34m(\u001b[0m\u001b[0mnrows\u001b[0m\u001b[0;34m)\u001b[0m\u001b[0;34m\u001b[0m\u001b[0;34m\u001b[0m\u001b[0m\n\u001b[0m\u001b[1;32m    627\u001b[0m \u001b[0;34m\u001b[0m\u001b[0m\n\u001b[1;32m    628\u001b[0m \u001b[0;34m\u001b[0m\u001b[0m\n",
            "\u001b[0;32m/usr/local/lib/python3.10/dist-packages/pandas/io/parsers/readers.py\u001b[0m in \u001b[0;36mread\u001b[0;34m(self, nrows)\u001b[0m\n\u001b[1;32m   1921\u001b[0m                     \u001b[0mcolumns\u001b[0m\u001b[0;34m,\u001b[0m\u001b[0;34m\u001b[0m\u001b[0;34m\u001b[0m\u001b[0m\n\u001b[1;32m   1922\u001b[0m                     \u001b[0mcol_dict\u001b[0m\u001b[0;34m,\u001b[0m\u001b[0;34m\u001b[0m\u001b[0;34m\u001b[0m\u001b[0m\n\u001b[0;32m-> 1923\u001b[0;31m                 \u001b[0;34m)\u001b[0m \u001b[0;34m=\u001b[0m \u001b[0mself\u001b[0m\u001b[0;34m.\u001b[0m\u001b[0m_engine\u001b[0m\u001b[0;34m.\u001b[0m\u001b[0mread\u001b[0m\u001b[0;34m(\u001b[0m  \u001b[0;31m# type: ignore[attr-defined]\u001b[0m\u001b[0;34m\u001b[0m\u001b[0;34m\u001b[0m\u001b[0m\n\u001b[0m\u001b[1;32m   1924\u001b[0m                     \u001b[0mnrows\u001b[0m\u001b[0;34m\u001b[0m\u001b[0;34m\u001b[0m\u001b[0m\n\u001b[1;32m   1925\u001b[0m                 )\n",
            "\u001b[0;32m/usr/local/lib/python3.10/dist-packages/pandas/io/parsers/c_parser_wrapper.py\u001b[0m in \u001b[0;36mread\u001b[0;34m(self, nrows)\u001b[0m\n\u001b[1;32m    232\u001b[0m         \u001b[0;32mtry\u001b[0m\u001b[0;34m:\u001b[0m\u001b[0;34m\u001b[0m\u001b[0;34m\u001b[0m\u001b[0m\n\u001b[1;32m    233\u001b[0m             \u001b[0;32mif\u001b[0m \u001b[0mself\u001b[0m\u001b[0;34m.\u001b[0m\u001b[0mlow_memory\u001b[0m\u001b[0;34m:\u001b[0m\u001b[0;34m\u001b[0m\u001b[0;34m\u001b[0m\u001b[0m\n\u001b[0;32m--> 234\u001b[0;31m                 \u001b[0mchunks\u001b[0m \u001b[0;34m=\u001b[0m \u001b[0mself\u001b[0m\u001b[0;34m.\u001b[0m\u001b[0m_reader\u001b[0m\u001b[0;34m.\u001b[0m\u001b[0mread_low_memory\u001b[0m\u001b[0;34m(\u001b[0m\u001b[0mnrows\u001b[0m\u001b[0;34m)\u001b[0m\u001b[0;34m\u001b[0m\u001b[0;34m\u001b[0m\u001b[0m\n\u001b[0m\u001b[1;32m    235\u001b[0m                 \u001b[0;31m# destructive to chunks\u001b[0m\u001b[0;34m\u001b[0m\u001b[0;34m\u001b[0m\u001b[0m\n\u001b[1;32m    236\u001b[0m                 \u001b[0mdata\u001b[0m \u001b[0;34m=\u001b[0m \u001b[0m_concatenate_chunks\u001b[0m\u001b[0;34m(\u001b[0m\u001b[0mchunks\u001b[0m\u001b[0;34m)\u001b[0m\u001b[0;34m\u001b[0m\u001b[0;34m\u001b[0m\u001b[0m\n",
            "\u001b[0;32mparsers.pyx\u001b[0m in \u001b[0;36mpandas._libs.parsers.TextReader.read_low_memory\u001b[0;34m()\u001b[0m\n",
            "\u001b[0;32mparsers.pyx\u001b[0m in \u001b[0;36mpandas._libs.parsers.TextReader._read_rows\u001b[0;34m()\u001b[0m\n",
            "\u001b[0;32mparsers.pyx\u001b[0m in \u001b[0;36mpandas._libs.parsers.TextReader._tokenize_rows\u001b[0;34m()\u001b[0m\n",
            "\u001b[0;32mparsers.pyx\u001b[0m in \u001b[0;36mpandas._libs.parsers.TextReader._check_tokenize_status\u001b[0;34m()\u001b[0m\n",
            "\u001b[0;32mparsers.pyx\u001b[0m in \u001b[0;36mpandas._libs.parsers.raise_parser_error\u001b[0;34m()\u001b[0m\n",
            "\u001b[0;31mParserError\u001b[0m: Error tokenizing data. C error: Expected 1 fields in line 3, saw 2\n"
          ]
        }
      ]
    },
    {
      "cell_type": "code",
      "source": [
        "df = pd.read_csv('yoomix.csv', sep='\\t')\n",
        "print(df.head())"
      ],
      "metadata": {
        "colab": {
          "base_uri": "https://localhost:8080/",
          "height": 495
        },
        "id": "oKyHK2hHNyvf",
        "outputId": "0dcb4fe7-d01d-426f-905d-5c8cce3e0b74"
      },
      "execution_count": 8,
      "outputs": [
        {
          "output_type": "error",
          "ename": "ParserError",
          "evalue": "Error tokenizing data. C error: Expected 1 fields in line 538, saw 3\n",
          "traceback": [
            "\u001b[0;31m---------------------------------------------------------------------------\u001b[0m",
            "\u001b[0;31mParserError\u001b[0m                               Traceback (most recent call last)",
            "\u001b[0;32m<ipython-input-8-6f742d2a94f4>\u001b[0m in \u001b[0;36m<cell line: 2>\u001b[0;34m()\u001b[0m\n\u001b[1;32m      1\u001b[0m \u001b[0;31m# Try using tab as delimiter\u001b[0m\u001b[0;34m\u001b[0m\u001b[0;34m\u001b[0m\u001b[0m\n\u001b[0;32m----> 2\u001b[0;31m \u001b[0mdf\u001b[0m \u001b[0;34m=\u001b[0m \u001b[0mpd\u001b[0m\u001b[0;34m.\u001b[0m\u001b[0mread_csv\u001b[0m\u001b[0;34m(\u001b[0m\u001b[0;34m'yoomix.csv'\u001b[0m\u001b[0;34m,\u001b[0m \u001b[0msep\u001b[0m\u001b[0;34m=\u001b[0m\u001b[0;34m'\\t'\u001b[0m\u001b[0;34m)\u001b[0m\u001b[0;34m\u001b[0m\u001b[0;34m\u001b[0m\u001b[0m\n\u001b[0m\u001b[1;32m      3\u001b[0m \u001b[0mprint\u001b[0m\u001b[0;34m(\u001b[0m\u001b[0mdf\u001b[0m\u001b[0;34m.\u001b[0m\u001b[0mhead\u001b[0m\u001b[0;34m(\u001b[0m\u001b[0;34m)\u001b[0m\u001b[0;34m)\u001b[0m\u001b[0;34m\u001b[0m\u001b[0;34m\u001b[0m\u001b[0m\n",
            "\u001b[0;32m/usr/local/lib/python3.10/dist-packages/pandas/io/parsers/readers.py\u001b[0m in \u001b[0;36mread_csv\u001b[0;34m(filepath_or_buffer, sep, delimiter, header, names, index_col, usecols, dtype, engine, converters, true_values, false_values, skipinitialspace, skiprows, skipfooter, nrows, na_values, keep_default_na, na_filter, verbose, skip_blank_lines, parse_dates, infer_datetime_format, keep_date_col, date_parser, date_format, dayfirst, cache_dates, iterator, chunksize, compression, thousands, decimal, lineterminator, quotechar, quoting, doublequote, escapechar, comment, encoding, encoding_errors, dialect, on_bad_lines, delim_whitespace, low_memory, memory_map, float_precision, storage_options, dtype_backend)\u001b[0m\n\u001b[1;32m   1024\u001b[0m     \u001b[0mkwds\u001b[0m\u001b[0;34m.\u001b[0m\u001b[0mupdate\u001b[0m\u001b[0;34m(\u001b[0m\u001b[0mkwds_defaults\u001b[0m\u001b[0;34m)\u001b[0m\u001b[0;34m\u001b[0m\u001b[0;34m\u001b[0m\u001b[0m\n\u001b[1;32m   1025\u001b[0m \u001b[0;34m\u001b[0m\u001b[0m\n\u001b[0;32m-> 1026\u001b[0;31m     \u001b[0;32mreturn\u001b[0m \u001b[0m_read\u001b[0m\u001b[0;34m(\u001b[0m\u001b[0mfilepath_or_buffer\u001b[0m\u001b[0;34m,\u001b[0m \u001b[0mkwds\u001b[0m\u001b[0;34m)\u001b[0m\u001b[0;34m\u001b[0m\u001b[0;34m\u001b[0m\u001b[0m\n\u001b[0m\u001b[1;32m   1027\u001b[0m \u001b[0;34m\u001b[0m\u001b[0m\n\u001b[1;32m   1028\u001b[0m \u001b[0;34m\u001b[0m\u001b[0m\n",
            "\u001b[0;32m/usr/local/lib/python3.10/dist-packages/pandas/io/parsers/readers.py\u001b[0m in \u001b[0;36m_read\u001b[0;34m(filepath_or_buffer, kwds)\u001b[0m\n\u001b[1;32m    624\u001b[0m \u001b[0;34m\u001b[0m\u001b[0m\n\u001b[1;32m    625\u001b[0m     \u001b[0;32mwith\u001b[0m \u001b[0mparser\u001b[0m\u001b[0;34m:\u001b[0m\u001b[0;34m\u001b[0m\u001b[0;34m\u001b[0m\u001b[0m\n\u001b[0;32m--> 626\u001b[0;31m         \u001b[0;32mreturn\u001b[0m \u001b[0mparser\u001b[0m\u001b[0;34m.\u001b[0m\u001b[0mread\u001b[0m\u001b[0;34m(\u001b[0m\u001b[0mnrows\u001b[0m\u001b[0;34m)\u001b[0m\u001b[0;34m\u001b[0m\u001b[0;34m\u001b[0m\u001b[0m\n\u001b[0m\u001b[1;32m    627\u001b[0m \u001b[0;34m\u001b[0m\u001b[0m\n\u001b[1;32m    628\u001b[0m \u001b[0;34m\u001b[0m\u001b[0m\n",
            "\u001b[0;32m/usr/local/lib/python3.10/dist-packages/pandas/io/parsers/readers.py\u001b[0m in \u001b[0;36mread\u001b[0;34m(self, nrows)\u001b[0m\n\u001b[1;32m   1921\u001b[0m                     \u001b[0mcolumns\u001b[0m\u001b[0;34m,\u001b[0m\u001b[0;34m\u001b[0m\u001b[0;34m\u001b[0m\u001b[0m\n\u001b[1;32m   1922\u001b[0m                     \u001b[0mcol_dict\u001b[0m\u001b[0;34m,\u001b[0m\u001b[0;34m\u001b[0m\u001b[0;34m\u001b[0m\u001b[0m\n\u001b[0;32m-> 1923\u001b[0;31m                 \u001b[0;34m)\u001b[0m \u001b[0;34m=\u001b[0m \u001b[0mself\u001b[0m\u001b[0;34m.\u001b[0m\u001b[0m_engine\u001b[0m\u001b[0;34m.\u001b[0m\u001b[0mread\u001b[0m\u001b[0;34m(\u001b[0m  \u001b[0;31m# type: ignore[attr-defined]\u001b[0m\u001b[0;34m\u001b[0m\u001b[0;34m\u001b[0m\u001b[0m\n\u001b[0m\u001b[1;32m   1924\u001b[0m                     \u001b[0mnrows\u001b[0m\u001b[0;34m\u001b[0m\u001b[0;34m\u001b[0m\u001b[0m\n\u001b[1;32m   1925\u001b[0m                 )\n",
            "\u001b[0;32m/usr/local/lib/python3.10/dist-packages/pandas/io/parsers/c_parser_wrapper.py\u001b[0m in \u001b[0;36mread\u001b[0;34m(self, nrows)\u001b[0m\n\u001b[1;32m    232\u001b[0m         \u001b[0;32mtry\u001b[0m\u001b[0;34m:\u001b[0m\u001b[0;34m\u001b[0m\u001b[0;34m\u001b[0m\u001b[0m\n\u001b[1;32m    233\u001b[0m             \u001b[0;32mif\u001b[0m \u001b[0mself\u001b[0m\u001b[0;34m.\u001b[0m\u001b[0mlow_memory\u001b[0m\u001b[0;34m:\u001b[0m\u001b[0;34m\u001b[0m\u001b[0;34m\u001b[0m\u001b[0m\n\u001b[0;32m--> 234\u001b[0;31m                 \u001b[0mchunks\u001b[0m \u001b[0;34m=\u001b[0m \u001b[0mself\u001b[0m\u001b[0;34m.\u001b[0m\u001b[0m_reader\u001b[0m\u001b[0;34m.\u001b[0m\u001b[0mread_low_memory\u001b[0m\u001b[0;34m(\u001b[0m\u001b[0mnrows\u001b[0m\u001b[0;34m)\u001b[0m\u001b[0;34m\u001b[0m\u001b[0;34m\u001b[0m\u001b[0m\n\u001b[0m\u001b[1;32m    235\u001b[0m                 \u001b[0;31m# destructive to chunks\u001b[0m\u001b[0;34m\u001b[0m\u001b[0;34m\u001b[0m\u001b[0m\n\u001b[1;32m    236\u001b[0m                 \u001b[0mdata\u001b[0m \u001b[0;34m=\u001b[0m \u001b[0m_concatenate_chunks\u001b[0m\u001b[0;34m(\u001b[0m\u001b[0mchunks\u001b[0m\u001b[0;34m)\u001b[0m\u001b[0;34m\u001b[0m\u001b[0;34m\u001b[0m\u001b[0m\n",
            "\u001b[0;32mparsers.pyx\u001b[0m in \u001b[0;36mpandas._libs.parsers.TextReader.read_low_memory\u001b[0;34m()\u001b[0m\n",
            "\u001b[0;32mparsers.pyx\u001b[0m in \u001b[0;36mpandas._libs.parsers.TextReader._read_rows\u001b[0;34m()\u001b[0m\n",
            "\u001b[0;32mparsers.pyx\u001b[0m in \u001b[0;36mpandas._libs.parsers.TextReader._tokenize_rows\u001b[0;34m()\u001b[0m\n",
            "\u001b[0;32mparsers.pyx\u001b[0m in \u001b[0;36mpandas._libs.parsers.TextReader._check_tokenize_status\u001b[0;34m()\u001b[0m\n",
            "\u001b[0;32mparsers.pyx\u001b[0m in \u001b[0;36mpandas._libs.parsers.raise_parser_error\u001b[0;34m()\u001b[0m\n",
            "\u001b[0;31mParserError\u001b[0m: Error tokenizing data. C error: Expected 1 fields in line 538, saw 3\n"
          ]
        }
      ]
    },
    {
      "cell_type": "code",
      "source": [
        "df = pd.read_csv('yoomix.csv', error_bad_lines=False)\n",
        "df = pd.read_csv('yoomix.csv', on_bad_lines='skip')\n",
        "print(df.head())"
      ],
      "metadata": {
        "colab": {
          "base_uri": "https://localhost:8080/",
          "height": 211
        },
        "id": "ry-MBpUaN2VT",
        "outputId": "3bae38db-c498-4e99-bf8a-e796e21f6724"
      },
      "execution_count": 9,
      "outputs": [
        {
          "output_type": "error",
          "ename": "TypeError",
          "evalue": "read_csv() got an unexpected keyword argument 'error_bad_lines'",
          "traceback": [
            "\u001b[0;31m---------------------------------------------------------------------------\u001b[0m",
            "\u001b[0;31mTypeError\u001b[0m                                 Traceback (most recent call last)",
            "\u001b[0;32m<ipython-input-9-09ab34ad055d>\u001b[0m in \u001b[0;36m<cell line: 2>\u001b[0;34m()\u001b[0m\n\u001b[1;32m      1\u001b[0m \u001b[0;31m# Skip lines with parsing errors\u001b[0m\u001b[0;34m\u001b[0m\u001b[0;34m\u001b[0m\u001b[0m\n\u001b[0;32m----> 2\u001b[0;31m \u001b[0mdf\u001b[0m \u001b[0;34m=\u001b[0m \u001b[0mpd\u001b[0m\u001b[0;34m.\u001b[0m\u001b[0mread_csv\u001b[0m\u001b[0;34m(\u001b[0m\u001b[0;34m'yoomix.csv'\u001b[0m\u001b[0;34m,\u001b[0m \u001b[0merror_bad_lines\u001b[0m\u001b[0;34m=\u001b[0m\u001b[0;32mFalse\u001b[0m\u001b[0;34m)\u001b[0m  \u001b[0;31m# For older versions of pandas\u001b[0m\u001b[0;34m\u001b[0m\u001b[0;34m\u001b[0m\u001b[0m\n\u001b[0m\u001b[1;32m      3\u001b[0m \u001b[0;31m# OR for newer versions of pandas\u001b[0m\u001b[0;34m\u001b[0m\u001b[0;34m\u001b[0m\u001b[0m\n\u001b[1;32m      4\u001b[0m \u001b[0mdf\u001b[0m \u001b[0;34m=\u001b[0m \u001b[0mpd\u001b[0m\u001b[0;34m.\u001b[0m\u001b[0mread_csv\u001b[0m\u001b[0;34m(\u001b[0m\u001b[0;34m'yoomix.csv'\u001b[0m\u001b[0;34m,\u001b[0m \u001b[0mon_bad_lines\u001b[0m\u001b[0;34m=\u001b[0m\u001b[0;34m'skip'\u001b[0m\u001b[0;34m)\u001b[0m\u001b[0;34m\u001b[0m\u001b[0;34m\u001b[0m\u001b[0m\n\u001b[1;32m      5\u001b[0m \u001b[0mprint\u001b[0m\u001b[0;34m(\u001b[0m\u001b[0mdf\u001b[0m\u001b[0;34m.\u001b[0m\u001b[0mhead\u001b[0m\u001b[0;34m(\u001b[0m\u001b[0;34m)\u001b[0m\u001b[0;34m)\u001b[0m\u001b[0;34m\u001b[0m\u001b[0;34m\u001b[0m\u001b[0m\n",
            "\u001b[0;31mTypeError\u001b[0m: read_csv() got an unexpected keyword argument 'error_bad_lines'"
          ]
        }
      ]
    },
    {
      "cell_type": "code",
      "source": [
        "df = pd.read_csv('yoomix.csv', on_bad_lines='skip')\n",
        "\n",
        "print(df.head())\n"
      ],
      "metadata": {
        "colab": {
          "base_uri": "https://localhost:8080/"
        },
        "id": "2WyHZrcsN-mB",
        "outputId": "52c9c104-bd1f-4e15-e2df-b79a6a34e965"
      },
      "execution_count": 10,
      "outputs": [
        {
          "output_type": "stream",
          "name": "stdout",
          "text": [
            "  address_id;\"customer_id\";\"firstname\";\"lastname\";\"company\";\"address_1\";\"address_2\";\"city\";\"postcode\";\"country_id\";\"zone_id\";\"custom_field\"\n",
            "0  23;\"340\";\"Nareelis\";\"Jakoba\";\"Building Depot T...                                                                                       \n",
            "1  30;\"352\";\"vimal\";\"vimal\";;\"varacha\";\"varacha\";...                                                                                       \n",
            "2  32;\"336\";\"Danny\";\"Scaunich\";\"Test\";\"123 Test s...                                                                                       \n",
            "3  33;\"33\";\"vimal\";\"vimal\";;\"varacha\";\"varacha\";\"...                                                                                       \n",
            "4  41;\"407\";\"vimal\";\"vimal\";;\"varacha\";\"varacha\";...                                                                                       \n"
          ]
        }
      ]
    },
    {
      "cell_type": "code",
      "source": [
        "df = pd.read_csv('yoomix.csv', sep=';')\n",
        "\n",
        "print(df.head())"
      ],
      "metadata": {
        "colab": {
          "base_uri": "https://localhost:8080/",
          "height": 530
        },
        "id": "eCUQdyaqOtnI",
        "outputId": "a07e55e3-c8a8-4440-ed0e-dbd8d5bfa1af"
      },
      "execution_count": 11,
      "outputs": [
        {
          "output_type": "error",
          "ename": "ParserError",
          "evalue": "Error tokenizing data. C error: Expected 12 fields in line 820, saw 14\n",
          "traceback": [
            "\u001b[0;31m---------------------------------------------------------------------------\u001b[0m",
            "\u001b[0;31mParserError\u001b[0m                               Traceback (most recent call last)",
            "\u001b[0;32m<ipython-input-11-049fed2337a9>\u001b[0m in \u001b[0;36m<cell line: 2>\u001b[0;34m()\u001b[0m\n\u001b[1;32m      1\u001b[0m \u001b[0;31m# Specify semicolon as the delimiter\u001b[0m\u001b[0;34m\u001b[0m\u001b[0;34m\u001b[0m\u001b[0m\n\u001b[0;32m----> 2\u001b[0;31m \u001b[0mdf\u001b[0m \u001b[0;34m=\u001b[0m \u001b[0mpd\u001b[0m\u001b[0;34m.\u001b[0m\u001b[0mread_csv\u001b[0m\u001b[0;34m(\u001b[0m\u001b[0;34m'yoomix.csv'\u001b[0m\u001b[0;34m,\u001b[0m \u001b[0msep\u001b[0m\u001b[0;34m=\u001b[0m\u001b[0;34m';'\u001b[0m\u001b[0;34m)\u001b[0m\u001b[0;34m\u001b[0m\u001b[0;34m\u001b[0m\u001b[0m\n\u001b[0m\u001b[1;32m      3\u001b[0m \u001b[0;34m\u001b[0m\u001b[0m\n\u001b[1;32m      4\u001b[0m \u001b[0;31m# Display the first few rows\u001b[0m\u001b[0;34m\u001b[0m\u001b[0;34m\u001b[0m\u001b[0m\n\u001b[1;32m      5\u001b[0m \u001b[0mprint\u001b[0m\u001b[0;34m(\u001b[0m\u001b[0mdf\u001b[0m\u001b[0;34m.\u001b[0m\u001b[0mhead\u001b[0m\u001b[0;34m(\u001b[0m\u001b[0;34m)\u001b[0m\u001b[0;34m)\u001b[0m\u001b[0;34m\u001b[0m\u001b[0;34m\u001b[0m\u001b[0m\n",
            "\u001b[0;32m/usr/local/lib/python3.10/dist-packages/pandas/io/parsers/readers.py\u001b[0m in \u001b[0;36mread_csv\u001b[0;34m(filepath_or_buffer, sep, delimiter, header, names, index_col, usecols, dtype, engine, converters, true_values, false_values, skipinitialspace, skiprows, skipfooter, nrows, na_values, keep_default_na, na_filter, verbose, skip_blank_lines, parse_dates, infer_datetime_format, keep_date_col, date_parser, date_format, dayfirst, cache_dates, iterator, chunksize, compression, thousands, decimal, lineterminator, quotechar, quoting, doublequote, escapechar, comment, encoding, encoding_errors, dialect, on_bad_lines, delim_whitespace, low_memory, memory_map, float_precision, storage_options, dtype_backend)\u001b[0m\n\u001b[1;32m   1024\u001b[0m     \u001b[0mkwds\u001b[0m\u001b[0;34m.\u001b[0m\u001b[0mupdate\u001b[0m\u001b[0;34m(\u001b[0m\u001b[0mkwds_defaults\u001b[0m\u001b[0;34m)\u001b[0m\u001b[0;34m\u001b[0m\u001b[0;34m\u001b[0m\u001b[0m\n\u001b[1;32m   1025\u001b[0m \u001b[0;34m\u001b[0m\u001b[0m\n\u001b[0;32m-> 1026\u001b[0;31m     \u001b[0;32mreturn\u001b[0m \u001b[0m_read\u001b[0m\u001b[0;34m(\u001b[0m\u001b[0mfilepath_or_buffer\u001b[0m\u001b[0;34m,\u001b[0m \u001b[0mkwds\u001b[0m\u001b[0;34m)\u001b[0m\u001b[0;34m\u001b[0m\u001b[0;34m\u001b[0m\u001b[0m\n\u001b[0m\u001b[1;32m   1027\u001b[0m \u001b[0;34m\u001b[0m\u001b[0m\n\u001b[1;32m   1028\u001b[0m \u001b[0;34m\u001b[0m\u001b[0m\n",
            "\u001b[0;32m/usr/local/lib/python3.10/dist-packages/pandas/io/parsers/readers.py\u001b[0m in \u001b[0;36m_read\u001b[0;34m(filepath_or_buffer, kwds)\u001b[0m\n\u001b[1;32m    624\u001b[0m \u001b[0;34m\u001b[0m\u001b[0m\n\u001b[1;32m    625\u001b[0m     \u001b[0;32mwith\u001b[0m \u001b[0mparser\u001b[0m\u001b[0;34m:\u001b[0m\u001b[0;34m\u001b[0m\u001b[0;34m\u001b[0m\u001b[0m\n\u001b[0;32m--> 626\u001b[0;31m         \u001b[0;32mreturn\u001b[0m \u001b[0mparser\u001b[0m\u001b[0;34m.\u001b[0m\u001b[0mread\u001b[0m\u001b[0;34m(\u001b[0m\u001b[0mnrows\u001b[0m\u001b[0;34m)\u001b[0m\u001b[0;34m\u001b[0m\u001b[0;34m\u001b[0m\u001b[0m\n\u001b[0m\u001b[1;32m    627\u001b[0m \u001b[0;34m\u001b[0m\u001b[0m\n\u001b[1;32m    628\u001b[0m \u001b[0;34m\u001b[0m\u001b[0m\n",
            "\u001b[0;32m/usr/local/lib/python3.10/dist-packages/pandas/io/parsers/readers.py\u001b[0m in \u001b[0;36mread\u001b[0;34m(self, nrows)\u001b[0m\n\u001b[1;32m   1921\u001b[0m                     \u001b[0mcolumns\u001b[0m\u001b[0;34m,\u001b[0m\u001b[0;34m\u001b[0m\u001b[0;34m\u001b[0m\u001b[0m\n\u001b[1;32m   1922\u001b[0m                     \u001b[0mcol_dict\u001b[0m\u001b[0;34m,\u001b[0m\u001b[0;34m\u001b[0m\u001b[0;34m\u001b[0m\u001b[0m\n\u001b[0;32m-> 1923\u001b[0;31m                 \u001b[0;34m)\u001b[0m \u001b[0;34m=\u001b[0m \u001b[0mself\u001b[0m\u001b[0;34m.\u001b[0m\u001b[0m_engine\u001b[0m\u001b[0;34m.\u001b[0m\u001b[0mread\u001b[0m\u001b[0;34m(\u001b[0m  \u001b[0;31m# type: ignore[attr-defined]\u001b[0m\u001b[0;34m\u001b[0m\u001b[0;34m\u001b[0m\u001b[0m\n\u001b[0m\u001b[1;32m   1924\u001b[0m                     \u001b[0mnrows\u001b[0m\u001b[0;34m\u001b[0m\u001b[0;34m\u001b[0m\u001b[0m\n\u001b[1;32m   1925\u001b[0m                 )\n",
            "\u001b[0;32m/usr/local/lib/python3.10/dist-packages/pandas/io/parsers/c_parser_wrapper.py\u001b[0m in \u001b[0;36mread\u001b[0;34m(self, nrows)\u001b[0m\n\u001b[1;32m    232\u001b[0m         \u001b[0;32mtry\u001b[0m\u001b[0;34m:\u001b[0m\u001b[0;34m\u001b[0m\u001b[0;34m\u001b[0m\u001b[0m\n\u001b[1;32m    233\u001b[0m             \u001b[0;32mif\u001b[0m \u001b[0mself\u001b[0m\u001b[0;34m.\u001b[0m\u001b[0mlow_memory\u001b[0m\u001b[0;34m:\u001b[0m\u001b[0;34m\u001b[0m\u001b[0;34m\u001b[0m\u001b[0m\n\u001b[0;32m--> 234\u001b[0;31m                 \u001b[0mchunks\u001b[0m \u001b[0;34m=\u001b[0m \u001b[0mself\u001b[0m\u001b[0;34m.\u001b[0m\u001b[0m_reader\u001b[0m\u001b[0;34m.\u001b[0m\u001b[0mread_low_memory\u001b[0m\u001b[0;34m(\u001b[0m\u001b[0mnrows\u001b[0m\u001b[0;34m)\u001b[0m\u001b[0;34m\u001b[0m\u001b[0;34m\u001b[0m\u001b[0m\n\u001b[0m\u001b[1;32m    235\u001b[0m                 \u001b[0;31m# destructive to chunks\u001b[0m\u001b[0;34m\u001b[0m\u001b[0;34m\u001b[0m\u001b[0m\n\u001b[1;32m    236\u001b[0m                 \u001b[0mdata\u001b[0m \u001b[0;34m=\u001b[0m \u001b[0m_concatenate_chunks\u001b[0m\u001b[0;34m(\u001b[0m\u001b[0mchunks\u001b[0m\u001b[0;34m)\u001b[0m\u001b[0;34m\u001b[0m\u001b[0;34m\u001b[0m\u001b[0m\n",
            "\u001b[0;32mparsers.pyx\u001b[0m in \u001b[0;36mpandas._libs.parsers.TextReader.read_low_memory\u001b[0;34m()\u001b[0m\n",
            "\u001b[0;32mparsers.pyx\u001b[0m in \u001b[0;36mpandas._libs.parsers.TextReader._read_rows\u001b[0;34m()\u001b[0m\n",
            "\u001b[0;32mparsers.pyx\u001b[0m in \u001b[0;36mpandas._libs.parsers.TextReader._tokenize_rows\u001b[0;34m()\u001b[0m\n",
            "\u001b[0;32mparsers.pyx\u001b[0m in \u001b[0;36mpandas._libs.parsers.TextReader._check_tokenize_status\u001b[0;34m()\u001b[0m\n",
            "\u001b[0;32mparsers.pyx\u001b[0m in \u001b[0;36mpandas._libs.parsers.raise_parser_error\u001b[0;34m()\u001b[0m\n",
            "\u001b[0;31mParserError\u001b[0m: Error tokenizing data. C error: Expected 12 fields in line 820, saw 14\n"
          ]
        }
      ]
    },
    {
      "cell_type": "code",
      "source": [
        "df = pd.read_csv('yoomix.csv', sep=';', on_bad_lines='skip')\n",
        "\n",
        "print(df.head())\n"
      ],
      "metadata": {
        "colab": {
          "base_uri": "https://localhost:8080/"
        },
        "id": "iJhLvKqUPH6I",
        "outputId": "693e47c1-e36d-42ab-ad4f-ef4ecf1afba9"
      },
      "execution_count": 13,
      "outputs": [
        {
          "output_type": "stream",
          "name": "stdout",
          "text": [
            "  address_id customer_id firstname  lastname                      company  \\\n",
            "0         23         340  Nareelis    Jakoba  Building Depot Trading B.V.   \n",
            "1         28         327    NASEEM      OMAR         NASIMI INTERIORS LTD   \n",
            "2         30         352     vimal     vimal                          NaN   \n",
            "3         32         336     Danny  Scaunich                         Test   \n",
            "4         33          33     vimal     vimal                          NaN   \n",
            "\n",
            "                          address_1 address_2        city    postcode  \\\n",
            "0                       Erieweg z/n       NaN  Willemstad         NaN   \n",
            "1  PLAZA 2000 MOMBASA ROAD, NAIROBI       NaN     NAIROBI  27709-0050   \n",
            "2                           varacha   varacha       surat      395010   \n",
            "3                       123 Test st       NaN       Dubai         NaN   \n",
            "4                           varacha   varacha       surat      395010   \n",
            "\n",
            "  country_id zone_id custom_field  \n",
            "0        246       0          NaN  \n",
            "1        110    1736          NaN  \n",
            "2         99    1492          NaN  \n",
            "3        221    3510          NaN  \n",
            "4         99    1491          NaN  \n"
          ]
        }
      ]
    },
    {
      "cell_type": "code",
      "source": [
        "chunk_size = 1000\n",
        "chunks = pd.read_csv('yoomix.csv', sep=';', chunksize=chunk_size, on_bad_lines='skip')\n",
        "\n",
        "for chunk in chunks:\n",
        "    print(chunk.head())"
      ],
      "metadata": {
        "colab": {
          "base_uri": "https://localhost:8080/"
        },
        "id": "JMOXVCGAPe47",
        "outputId": "6f6686fb-fd79-4a2e-ada6-d554be089a63"
      },
      "execution_count": 14,
      "outputs": [
        {
          "output_type": "stream",
          "name": "stdout",
          "text": [
            "  address_id customer_id firstname  lastname                      company  \\\n",
            "0         23         340  Nareelis    Jakoba  Building Depot Trading B.V.   \n",
            "1         28         327    NASEEM      OMAR         NASIMI INTERIORS LTD   \n",
            "2         30         352     vimal     vimal                          NaN   \n",
            "3         32         336     Danny  Scaunich                         Test   \n",
            "4         33          33     vimal     vimal                          NaN   \n",
            "\n",
            "                          address_1 address_2        city    postcode  \\\n",
            "0                       Erieweg z/n       NaN  Willemstad         NaN   \n",
            "1  PLAZA 2000 MOMBASA ROAD, NAIROBI       NaN     NAIROBI  27709-0050   \n",
            "2                           varacha   varacha       surat      395010   \n",
            "3                       123 Test st       NaN       Dubai         NaN   \n",
            "4                           varacha   varacha       surat      395010   \n",
            "\n",
            "  country_id zone_id custom_field  \n",
            "0        246       0          NaN  \n",
            "1        110    1736          NaN  \n",
            "2         99    1492          NaN  \n",
            "3        221    3510          NaN  \n",
            "4         99    1491          NaN  \n",
            "      address_id  customer_id firstname  \\\n",
            "1000         231            7     login   \n",
            "1001         232           23  register   \n",
            "1002         235           24  register   \n",
            "1003         236           25  register   \n",
            "1004         240           17     login   \n",
            "\n",
            "                                               lastname         company  \\\n",
            "1000          {\"customer_id\":\"7\",\"name\":\"David Parker\"}    1.43.136.165   \n",
            "1001            {\"customer_id\":23,\"name\":\"Test1 Test2\"}  173.192.170.97   \n",
            "1002          {\"customer_id\":24,\"name\":\"Rtest1 Rtest2\"}  173.192.170.97   \n",
            "1003          {\"customer_id\":25,\"name\":\"Rtest1 Rtest2\"}  173.192.170.97   \n",
            "1004  {\"customer_id\":\"17\",\"name\":\"Ferruccio Tassinari\"}  188.217.27.155   \n",
            "\n",
            "                address_1  address_2  city  postcode  country_id  zone_id  \\\n",
            "1000  2019-02-28 18:08:06        NaN   NaN       NaN         NaN      NaN   \n",
            "1001  2019-02-28 19:04:44        NaN   NaN       NaN         NaN      NaN   \n",
            "1002  2019-02-28 22:59:37        NaN   NaN       NaN         NaN      NaN   \n",
            "1003  2019-02-28 23:25:57        NaN   NaN       NaN         NaN      NaN   \n",
            "1004  2019-03-01 01:20:56        NaN   NaN       NaN         NaN      NaN   \n",
            "\n",
            "      custom_field  \n",
            "1000           NaN  \n",
            "1001           NaN  \n",
            "1002           NaN  \n",
            "1003           NaN  \n",
            "1004           NaN  \n",
            "     address_id customer_id firstname  \\\n",
            "2000       3164          69     login   \n",
            "2001       3167          69     login   \n",
            "2002       3173          69     login   \n",
            "2003       3174          69     login   \n",
            "2004       3175          69     login   \n",
            "\n",
            "                                        lastname         company  \\\n",
            "2000  {\"customer_id\":\"69\",\"name\":\"Trent Barton\"}  203.109.218.93   \n",
            "2001  {\"customer_id\":\"69\",\"name\":\"Trent Barton\"}  180.149.228.30   \n",
            "2002  {\"customer_id\":\"69\",\"name\":\"Trent Barton\"}  180.149.231.12   \n",
            "2003  {\"customer_id\":\"69\",\"name\":\"Trent Barton\"}  180.149.231.12   \n",
            "2004  {\"customer_id\":\"69\",\"name\":\"Trent Barton\"}  180.149.231.12   \n",
            "\n",
            "                address_1 address_2 city postcode  country_id  zone_id  \\\n",
            "2000  2021-07-12 13:08:27       NaN  NaN      NaN         NaN      NaN   \n",
            "2001  2021-07-12 18:25:25       NaN  NaN      NaN         NaN      NaN   \n",
            "2002  2021-07-14 11:30:33       NaN  NaN      NaN         NaN      NaN   \n",
            "2003  2021-07-15 06:24:59       NaN  NaN      NaN         NaN      NaN   \n",
            "2004  2021-07-15 11:00:39       NaN  NaN      NaN         NaN      NaN   \n",
            "\n",
            "      custom_field  \n",
            "2000           NaN  \n",
            "2001           NaN  \n",
            "2002           NaN  \n",
            "2003           NaN  \n",
            "2004           NaN  \n",
            "     address_id customer_id firstname lastname  company  address_1  address_2  \\\n",
            "3000         32         617       NaN      NaN      NaN        NaN        NaN   \n",
            "3001         32         624       NaN      NaN      NaN        NaN        NaN   \n",
            "3002         32         631       NaN      NaN      NaN        NaN        NaN   \n",
            "3003         32         619       NaN      NaN      NaN        NaN        NaN   \n",
            "3004         32         626       NaN      NaN      NaN        NaN        NaN   \n",
            "\n",
            "      city  postcode  country_id  zone_id  custom_field  \n",
            "3000   NaN       NaN         NaN      NaN           NaN  \n",
            "3001   NaN       NaN         NaN      NaN           NaN  \n",
            "3002   NaN       NaN         NaN      NaN           NaN  \n",
            "3003   NaN       NaN         NaN      NaN           NaN  \n",
            "3004   NaN       NaN         NaN      NaN           NaN  \n",
            "     address_id customer_id        firstname             lastname company  \\\n",
            "4000       1188         336      45.91.20.14  2023-09-28 00:41:44     NaN   \n",
            "4001       1137          33    103.251.19.35  2023-08-15 13:26:23     NaN   \n",
            "4002       1139         336  146.241.135.160  2023-08-15 15:01:43     NaN   \n",
            "4003       1187         336      45.91.20.13  2023-09-28 00:02:59     NaN   \n",
            "4004       1143         387  150.107.232.127  2023-08-17 13:07:29     NaN   \n",
            "\n",
            "     address_1 address_2 city postcode country_id zone_id  custom_field  \n",
            "4000       NaN       NaN  NaN      NaN        NaN     NaN           NaN  \n",
            "4001       NaN       NaN  NaN      NaN        NaN     NaN           NaN  \n",
            "4002       NaN       NaN  NaN      NaN        NaN     NaN           NaN  \n",
            "4003       NaN       NaN  NaN      NaN        NaN     NaN           NaN  \n",
            "4004       NaN       NaN  NaN      NaN        NaN     NaN           NaN  \n",
            "      address_id  customer_id  firstname  lastname      company  address_1  \\\n",
            "5000         165            0          1         0   bella pink          0   \n",
            "5001         166            0          1         0   bella pink          0   \n",
            "5002         167            0          1         0   bella dark          0   \n",
            "5003         168            0          1         0  bella LIGHT          0   \n",
            "5004         169            0          1         0         juno          0   \n",
            "\n",
            "      address_2  city  postcode       country_id              zone_id  \\\n",
            "5000          0     0         4  183.249.227.131  2023-05-16 08:25:05   \n",
            "5001          0     0         4  183.249.227.131  2023-05-16 08:25:05   \n",
            "5002          0     0         4  183.249.227.131  2023-05-16 08:30:16   \n",
            "5003          0     0         5  183.249.227.131  2023-05-16 08:34:12   \n",
            "5004          0     0         9  183.249.227.131  2023-05-16 08:53:53   \n",
            "\n",
            "      custom_field  \n",
            "5000           NaN  \n",
            "5001           NaN  \n",
            "5002           NaN  \n",
            "5003           NaN  \n",
            "5004           NaN  \n",
            "     address_id customer_id firstname lastname  \\\n",
            "6000       1165           0         1        0   \n",
            "6001       1166           0         1        0   \n",
            "6002       1167           0         1        0   \n",
            "6003       1168           0         1        0   \n",
            "6004       1169           0         1        0   \n",
            "\n",
            "                                                company address_1 address_2  \\\n",
            "6000                                             HERMES         0         0   \n",
            "6001                                             HERMES         0         0   \n",
            "6002  astra shop cvv,【Site: Sig8.com】cvc cvv visa,be...         0         0   \n",
            "6003  astra shop cvv,【Site: Sig8.com】cvc cvv visa,be...         0         0   \n",
            "6004  best amex bins,【Site: Sig8.com】c2bit me,cvv ci...         0         0   \n",
            "\n",
            "     city postcode    country_id              zone_id  custom_field  \n",
            "6000    0        0  190.4.184.67  2024-06-05 15:37:14           NaN  \n",
            "6001    0        0  190.4.184.67  2024-06-05 15:37:14           NaN  \n",
            "6002    0        0  66.249.65.45  2024-06-05 16:14:24           NaN  \n",
            "6003    0        0  66.249.65.43  2024-06-05 21:09:20           NaN  \n",
            "6004    0        0  66.249.65.43  2024-06-06 02:00:37           NaN  \n",
            "      address_id  customer_id  firstname  lastname  company  \\\n",
            "7000          96            0          1         0        0   \n",
            "7001          97            0          1         0        0   \n",
            "7002          98            0          1         0        3   \n",
            "7003          99            0          1         0        3   \n",
            "7004         100            0          1         0        1   \n",
            "\n",
            "                      address_1                    address_2  \\\n",
            "7000                      Pudom          oudom.net@gmail.com   \n",
            "7001  Patrick From Perfect-Body             patrick_s@adr.dk   \n",
            "7002                     Kirill               midean@mail.ru   \n",
            "7003                    binhmeo        binhmeo1987@yahoo.com   \n",
            "7004                     Costas  journal@digital-atelier.com   \n",
            "\n",
            "                         city  \\\n",
            "7000        www.nokortech.com   \n",
            "7001   http://perfect-body.dk   \n",
            "7002                      NaN   \n",
            "7003                      NaN   \n",
            "7004  www.digital-atelier.com   \n",
            "\n",
            "                                               postcode  country_id  \\\n",
            "7000  -Journal Blog is a lot better than my expected...           0   \n",
            "7001  Very cool, I almost bought a new module just s...           1   \n",
            "7002                                     i need avatar!           0   \n",
            "7003                                       yitfiytfiytf           0   \n",
            "7004                        Lorem ipsum dolor sit amet.           1   \n",
            "\n",
            "                  zone_id  custom_field  \n",
            "7000  2014-11-25 22:20:49           NaN  \n",
            "7001  2014-12-20 16:12:31           NaN  \n",
            "7002  2015-01-20 12:48:39           NaN  \n",
            "7003  2015-01-21 16:15:27           NaN  \n",
            "7004  2015-01-24 14:19:58           NaN  \n",
            "      address_id  customer_id  firstname  lastname  company  \\\n",
            "8000        1264            0          1         0        0   \n",
            "8001        1265            0          1         0        0   \n",
            "8002        1266            0          1         0        0   \n",
            "8003        1267            0          1         0        0   \n",
            "8004        1268            0          1         0        0   \n",
            "\n",
            "                      address_1                address_2  \\\n",
            "8000  Sugar Defender supplement  racimi3696@beeplush.com   \n",
            "8001  Sugar Defender supplement  racimi3696@beeplush.com   \n",
            "8002  Sugar Defender supplement  racimi3696@beeplush.com   \n",
            "8003  Sugar Defender supplement  racimi3696@beeplush.com   \n",
            "8004  Sugar Defender supplement  racimi3696@beeplush.com   \n",
            "\n",
            "                                         city  \\\n",
            "8000                http://sugar--defender.uk   \n",
            "8001             http://sugar-defender-uk.uk/   \n",
            "8002             http://sugar-defender-uk.uk/   \n",
            "8003  http://sugardefender--sugardefender.ca/   \n",
            "8004              http://sugar--defenderr.com   \n",
            "\n",
            "                                               postcode  country_id  \\\n",
            "8000  Sugar Defender is a fantastic natural suppleme...           1   \n",
            "8001  Sugar Defender is a fantastic natural suppleme...           1   \n",
            "8002  Sugar Defender is a fantastic natural suppleme...           1   \n",
            "8003  Sugar Defender is a fantastic natural suppleme...           1   \n",
            "8004  Sugar Defender is a fantastic natural suppleme...           1   \n",
            "\n",
            "                  zone_id  custom_field  \n",
            "8000  2024-02-14 04:40:29           NaN  \n",
            "8001  2024-02-14 04:42:28           NaN  \n",
            "8002  2024-02-14 04:42:28           NaN  \n",
            "8003  2024-02-14 04:44:17           NaN  \n",
            "8004  2024-02-14 04:46:46           NaN  \n",
            "     address_id customer_id firstname lastname company              address_1  \\\n",
            "9000       2264           0         1        0       0                  randy   \n",
            "9001       2265           0         1        0       0                  randy   \n",
            "9002       2266           0         1        0       0                  randy   \n",
            "9003       2267           0         1        0       0  गिनी मा टर्की दूतावास   \n",
            "9004       2268           0         1        0       0      Indexable baclink   \n",
            "\n",
            "                   address_2  \\\n",
            "9000    Nelsonvix3@gmail.com   \n",
            "9001    Nelsonvix3@gmail.com   \n",
            "9002    Nelsonvix3@gmail.com   \n",
            "9003     laptop456@gmail.com   \n",
            "9004  yawamo4373@sablecc.com   \n",
            "\n",
            "                                                   city  \\\n",
            "9000                           https://easyoutboard.com   \n",
            "9001                           https://easyoutboard.com   \n",
            "9002                           https://easyoutboard.com   \n",
            "9003  https://www.turkish-visa.org/ne/turkey-embassy...   \n",
            "9004                          https://shorturl.at/JpyBy   \n",
            "\n",
            "                                               postcode  country_id  \\\n",
            "9000  &lt;a href=https://omegameth.com/product/buy-a...         1.0   \n",
            "9001  &lt;a href=https://omegameth.com/product/buy-a...         1.0   \n",
            "9002  &lt;a href=https://omegameth.com/product/buy-a...         1.0   \n",
            "9003  The mentioned site is like a great assistance ...         1.0   \n",
            "9004  Have you ever thought about adding a little bi...         1.0   \n",
            "\n",
            "                  zone_id  custom_field  \n",
            "9000  2024-09-04 01:57:13           NaN  \n",
            "9001  2024-09-04 01:57:13           NaN  \n",
            "9002  2024-09-04 01:57:13           NaN  \n",
            "9003  2024-09-04 09:07:30           NaN  \n",
            "9004  2024-09-04 09:09:56           NaN  \n",
            "      address_id                                 customer_id  \\\n",
            "10000          1  quickCheckoutBoxStylesPaymentAddressShadow   \n",
            "10001          1                  subcategoriesTitleOverflow   \n",
            "10002          1        quickCheckoutBoxStylesShippingShadow   \n",
            "10003          1                         accountLoginBoxFont   \n",
            "10004          1                          quickviewCountdown   \n",
            "\n",
            "                                               firstname lastname company  \\\n",
            "10000  {\"offsetX\":\"\",\"offsetY\":\"\",\"blur\":\"\",\"spread\":...        1     NaN   \n",
            "10001                                              false        0     NaN   \n",
            "10002  {\"offsetX\":\"\",\"offsetY\":\"\",\"blur\":\"\",\"spread\":...        1     NaN   \n",
            "10003  {\"word-spacing\":\"\",\"line-height\":\"\",\"font-fami...        1     NaN   \n",
            "10004                                               true        0     NaN   \n",
            "\n",
            "      address_1 address_2 city postcode country_id  zone_id  custom_field  \n",
            "10000       NaN       NaN  NaN      NaN        NaN      NaN           NaN  \n",
            "10001       NaN       NaN  NaN      NaN        NaN      NaN           NaN  \n",
            "10002       NaN       NaN  NaN      NaN        NaN      NaN           NaN  \n",
            "10003       NaN       NaN  NaN      NaN        NaN      NaN           NaN  \n",
            "10004       NaN       NaN  NaN      NaN        NaN      NaN           NaN  \n",
            "      address_id customer_id firstname                lastname company  \\\n",
            "11000        109           1         2        Zara - Dark Grey     NaN   \n",
            "11001         85           1         2            Bella - Pink     NaN   \n",
            "11002         87           1         2    Boucle - Marshmellow     NaN   \n",
            "11003         96           1         2           Harper - Navy     NaN   \n",
            "11004         95           1         2  Sterling - Montecristo     NaN   \n",
            "\n",
            "      address_1 address_2 city  postcode  country_id  zone_id  custom_field  \n",
            "11000       NaN       NaN  NaN       NaN         NaN      NaN           NaN  \n",
            "11001       NaN       NaN  NaN       NaN         NaN      NaN           NaN  \n",
            "11002       NaN       NaN  NaN       NaN         NaN      NaN           NaN  \n",
            "11003       NaN       NaN  NaN       NaN         NaN      NaN           NaN  \n",
            "11004       NaN       NaN  NaN       NaN         NaN      NaN           NaN  \n",
            "      address_id customer_id  firstname       lastname     company address_1  \\\n",
            "12000       1411         246      total          Total  11634.0000         9   \n",
            "12001       1412         247  sub_total      Sub-Total  15134.0000         1   \n",
            "12002       1413         247   shipping  Free Shipping      0.0000         3   \n",
            "12003       1414         247      total          Total  15134.0000         9   \n",
            "12004       1423         248      total          Total  15864.0000         9   \n",
            "\n",
            "      address_2 city postcode country_id zone_id custom_field  \n",
            "12000       NaN  NaN      NaN        NaN     NaN          NaN  \n",
            "12001       NaN  NaN      NaN        NaN     NaN          NaN  \n",
            "12002       NaN  NaN      NaN        NaN     NaN          NaN  \n",
            "12003       NaN  NaN      NaN        NaN     NaN          NaN  \n",
            "12004       NaN  NaN      NaN        NaN     NaN          NaN  \n",
            "      address_id customer_id  \\\n",
            "13000      37408         447   \n",
            "13001      37421         437   \n",
            "13002      37420         437   \n",
            "13003      37419         437   \n",
            "13004      37418         437   \n",
            "\n",
            "                                               firstname lastname company  \\\n",
            "13000  catalog/Product Images/Helios/LHF Sectional/St...        4     NaN   \n",
            "13001  catalog/Product Images/Helios/LHF Sectional/Te...        9     NaN   \n",
            "13002  catalog/Product Images/Helios/LHF Sectional/Te...        8     NaN   \n",
            "13003  catalog/Product Images/Helios/LHF Sectional/Te...        7     NaN   \n",
            "13004  catalog/Product Images/Helios/LHF Sectional/Te...        6     NaN   \n",
            "\n",
            "       address_1  address_2  city  postcode  country_id  zone_id  custom_field  \n",
            "13000        NaN        NaN   NaN       NaN         NaN      NaN           NaN  \n",
            "13001        NaN        NaN   NaN       NaN         NaN      NaN           NaN  \n",
            "13002        NaN        NaN   NaN       NaN         NaN      NaN           NaN  \n",
            "13003        NaN        NaN   NaN       NaN         NaN      NaN           NaN  \n",
            "13004        NaN        NaN   NaN       NaN         NaN      NaN           NaN  \n",
            "      address_id customer_id firstname lastname company address_1 address_2  \\\n",
            "14000        202         190       NaN      NaN     NaN       NaN       NaN   \n",
            "14001        202         194       NaN      NaN     NaN       NaN       NaN   \n",
            "14002        202         198       NaN      NaN     NaN       NaN       NaN   \n",
            "14003        202         214       NaN      NaN     NaN       NaN       NaN   \n",
            "14004        203         191       NaN      NaN     NaN       NaN       NaN   \n",
            "\n",
            "       city  postcode  country_id  zone_id  custom_field  \n",
            "14000   NaN       NaN         NaN      NaN           NaN  \n",
            "14001   NaN       NaN         NaN      NaN           NaN  \n",
            "14002   NaN       NaN         NaN      NaN           NaN  \n",
            "14003   NaN       NaN         NaN      NaN           NaN  \n",
            "14004   NaN       NaN         NaN      NaN           NaN  \n",
            "      address_id customer_id firstname lastname company address_1 address_2  \\\n",
            "15000        463         228       NaN      NaN     NaN       NaN       NaN   \n",
            "15001        464         236       NaN      NaN     NaN       NaN       NaN   \n",
            "15002        465         224       NaN      NaN     NaN       NaN       NaN   \n",
            "15003        466         224       NaN      NaN     NaN       NaN       NaN   \n",
            "15004        467         227       NaN      NaN     NaN       NaN       NaN   \n",
            "\n",
            "      city postcode country_id zone_id custom_field  \n",
            "15000  NaN      NaN        NaN     NaN          NaN  \n",
            "15001  NaN      NaN        NaN     NaN          NaN  \n",
            "15002  NaN      NaN        NaN     NaN          NaN  \n",
            "15003  NaN      NaN        NaN     NaN          NaN  \n",
            "15004  NaN      NaN        NaN     NaN          NaN  \n",
            "            address_id customer_id  firstname lastname company  address_1  \\\n",
            "16000                6           1  Christmas      NaN     NaN        NaN   \n",
            "16001                7           1   Birthday      NaN     NaN        NaN   \n",
            "16002                8           1    General      NaN     NaN        NaN   \n",
            "16003  weight_class_id       value        NaN      NaN     NaN        NaN   \n",
            "16004                1  1.00000000        NaN      NaN     NaN        NaN   \n",
            "\n",
            "       address_2  city  postcode  country_id  zone_id  custom_field  \n",
            "16000        NaN   NaN       NaN         NaN      NaN           NaN  \n",
            "16001        NaN   NaN       NaN         NaN      NaN           NaN  \n",
            "16002        NaN   NaN       NaN         NaN      NaN           NaN  \n",
            "16003        NaN   NaN       NaN         NaN      NaN           NaN  \n",
            "16004        NaN   NaN       NaN         NaN      NaN           NaN  \n",
            "       address_id  customer_id         firstname lastname  company  address_1  \\\n",
            "17000         987           62  Gal&aacute;pagos      GPS        1        NaN   \n",
            "17001         988           62            Guayas      GUA        1        NaN   \n",
            "17002         989           62          Imbabura      IMB        1        NaN   \n",
            "17003         990           62              Loja      LOJ        1        NaN   \n",
            "17004         991           62          Los Rios      LRO        1        NaN   \n",
            "\n",
            "       address_2  city  postcode  country_id  zone_id  custom_field  \n",
            "17000        NaN   NaN       NaN         NaN      NaN           NaN  \n",
            "17001        NaN   NaN       NaN         NaN      NaN           NaN  \n",
            "17002        NaN   NaN       NaN         NaN      NaN           NaN  \n",
            "17003        NaN   NaN       NaN         NaN      NaN           NaN  \n",
            "17004        NaN   NaN       NaN         NaN      NaN           NaN  \n",
            "       address_id  customer_id     firstname lastname  company  address_1  \\\n",
            "18000        2082          132        Zebbug      ZEB        1        NaN   \n",
            "18001        2083          133    Ailinginae      ALG        1        NaN   \n",
            "18002        2084          133  Ailinglaplap      ALL        1        NaN   \n",
            "18003        2085          133         Ailuk      ALK        1        NaN   \n",
            "18004        2086          133          Arno      ARN        1        NaN   \n",
            "\n",
            "       address_2  city  postcode  country_id  zone_id  custom_field  \n",
            "18000        NaN   NaN       NaN         NaN      NaN           NaN  \n",
            "18001        NaN   NaN       NaN         NaN      NaN           NaN  \n",
            "18002        NaN   NaN       NaN         NaN      NaN           NaN  \n",
            "18003        NaN   NaN       NaN         NaN      NaN           NaN  \n",
            "18004        NaN   NaN       NaN         NaN      NaN           NaN  \n",
            "       address_id  customer_id     firstname lastname  company  address_1  \\\n",
            "19000        3085          203  Östergötland        E        1        NaN   \n",
            "19001        3086          203   Sk&aring;ne        M        1        NaN   \n",
            "19002        3087          203  Södermanland        D        1        NaN   \n",
            "19003        3088          203     Stockholm       AB        1        NaN   \n",
            "19004        3089          203       Uppsala        C        1        NaN   \n",
            "\n",
            "       address_2  city  postcode  country_id  zone_id  custom_field  \n",
            "19000        NaN   NaN       NaN         NaN      NaN           NaN  \n",
            "19001        NaN   NaN       NaN         NaN      NaN           NaN  \n",
            "19002        NaN   NaN       NaN         NaN      NaN           NaN  \n",
            "19003        NaN   NaN       NaN         NaN      NaN           NaN  \n",
            "19004        NaN   NaN       NaN         NaN      NaN           NaN  \n",
            "      address_id customer_id                     firstname lastname company  \\\n",
            "20000       4117         117                 Ķeguma novads  0741001       1   \n",
            "20001       4118         117         Ķegums, Ķeguma novads  0741009       1   \n",
            "20002       4119         117                Ķekavas novads  0800800       1   \n",
            "20003       4120         117  Lielvārde, Lielvārdes novads  0741413       1   \n",
            "20004       4121         117             Lielvārdes novads  0741401       1   \n",
            "\n",
            "      address_1  address_2  city  postcode  country_id  zone_id  custom_field  \n",
            "20000       NaN        NaN   NaN       NaN         NaN      NaN           NaN  \n",
            "20001       NaN        NaN   NaN       NaN         NaN      NaN           NaN  \n",
            "20002       NaN        NaN   NaN       NaN         NaN      NaN           NaN  \n",
            "20003       NaN        NaN   NaN       NaN         NaN      NaN           NaN  \n",
            "20004       NaN        NaN   NaN       NaN         NaN      NaN           NaN  \n"
          ]
        }
      ]
    },
    {
      "cell_type": "code",
      "source": [
        "print(df.columns)"
      ],
      "metadata": {
        "colab": {
          "base_uri": "https://localhost:8080/"
        },
        "id": "S4stFXKTPqDd",
        "outputId": "10078781-056f-4d4c-d619-fd19f10cc08b"
      },
      "execution_count": 15,
      "outputs": [
        {
          "output_type": "stream",
          "name": "stdout",
          "text": [
            "Index(['address_id', 'customer_id', 'firstname', 'lastname', 'company',\n",
            "       'address_1', 'address_2', 'city', 'postcode', 'country_id', 'zone_id',\n",
            "       'custom_field'],\n",
            "      dtype='object')\n"
          ]
        }
      ]
    },
    {
      "cell_type": "code",
      "source": [
        "df.fillna('', inplace=True)"
      ],
      "metadata": {
        "id": "RPF5RQ8DRCfV"
      },
      "execution_count": 17,
      "outputs": []
    },
    {
      "cell_type": "code",
      "source": [
        "df.drop_duplicates(inplace=True)\n",
        "\n",
        "print(df.describe())"
      ],
      "metadata": {
        "colab": {
          "base_uri": "https://localhost:8080/"
        },
        "id": "2R0A6DPGRMYw",
        "outputId": "368135d2-11fa-40fe-e0d5-13ab5922fc37"
      },
      "execution_count": 18,
      "outputs": [
        {
          "output_type": "stream",
          "name": "stdout",
          "text": [
            "       address_id customer_id firstname lastname company address_1 address_2  \\\n",
            "count       20204       20204     20204    20204   20204     20204     20204   \n",
            "unique       6491        2894      8529     4199    2278      4328       434   \n",
            "top             1           0         1        0                               \n",
            "freq         1244        4298      3464     4026    7648     11325     15931   \n",
            "\n",
            "         city postcode country_id zone_id custom_field  \n",
            "count   20204    20204      20204   20204        20204  \n",
            "unique   1233     1453        290    2840            7  \n",
            "top                                                     \n",
            "freq    16604    16627      16645   16766        20196  \n"
          ]
        }
      ]
    },
    {
      "cell_type": "code",
      "source": [
        "from google.colab import files\n",
        "\n",
        "files.download('yoomix.csv')"
      ],
      "metadata": {
        "colab": {
          "base_uri": "https://localhost:8080/",
          "height": 17
        },
        "id": "UvNgR4ixRbZF",
        "outputId": "252c0f80-630c-449a-f341-3b208457f4d1"
      },
      "execution_count": 21,
      "outputs": [
        {
          "output_type": "display_data",
          "data": {
            "text/plain": [
              "<IPython.core.display.Javascript object>"
            ],
            "application/javascript": [
              "\n",
              "    async function download(id, filename, size) {\n",
              "      if (!google.colab.kernel.accessAllowed) {\n",
              "        return;\n",
              "      }\n",
              "      const div = document.createElement('div');\n",
              "      const label = document.createElement('label');\n",
              "      label.textContent = `Downloading \"${filename}\": `;\n",
              "      div.appendChild(label);\n",
              "      const progress = document.createElement('progress');\n",
              "      progress.max = size;\n",
              "      div.appendChild(progress);\n",
              "      document.body.appendChild(div);\n",
              "\n",
              "      const buffers = [];\n",
              "      let downloaded = 0;\n",
              "\n",
              "      const channel = await google.colab.kernel.comms.open(id);\n",
              "      // Send a message to notify the kernel that we're ready.\n",
              "      channel.send({})\n",
              "\n",
              "      for await (const message of channel.messages) {\n",
              "        // Send a message to notify the kernel that we're ready.\n",
              "        channel.send({})\n",
              "        if (message.buffers) {\n",
              "          for (const buffer of message.buffers) {\n",
              "            buffers.push(buffer);\n",
              "            downloaded += buffer.byteLength;\n",
              "            progress.value = downloaded;\n",
              "          }\n",
              "        }\n",
              "      }\n",
              "      const blob = new Blob(buffers, {type: 'application/binary'});\n",
              "      const a = document.createElement('a');\n",
              "      a.href = window.URL.createObjectURL(blob);\n",
              "      a.download = filename;\n",
              "      div.appendChild(a);\n",
              "      a.click();\n",
              "      div.remove();\n",
              "    }\n",
              "  "
            ]
          },
          "metadata": {}
        },
        {
          "output_type": "display_data",
          "data": {
            "text/plain": [
              "<IPython.core.display.Javascript object>"
            ],
            "application/javascript": [
              "download(\"download_512f619c-776c-484e-945f-1fabba54b457\", \"yoomix.csv\", 43454013)"
            ]
          },
          "metadata": {}
        }
      ]
    },
    {
      "cell_type": "code",
      "source": [
        "df.to_csv('cleaned_yoomix.csv', index=False)"
      ],
      "metadata": {
        "id": "-0Vs493ORfyK"
      },
      "execution_count": 23,
      "outputs": []
    },
    {
      "cell_type": "code",
      "source": [
        "!ls\n"
      ],
      "metadata": {
        "colab": {
          "base_uri": "https://localhost:8080/"
        },
        "id": "UrNA1Jc5TRI5",
        "outputId": "43035215-0368-44e3-cd55-cb42dcab149c"
      },
      "execution_count": 24,
      "outputs": [
        {
          "output_type": "stream",
          "name": "stdout",
          "text": [
            "cleaned_yoomix.csv  sample_data  yoomix.csv\n"
          ]
        }
      ]
    },
    {
      "cell_type": "code",
      "source": [
        "from google.colab import files\n",
        "\n",
        "files.download('cleaned_yoomix.csv')"
      ],
      "metadata": {
        "colab": {
          "base_uri": "https://localhost:8080/",
          "height": 17
        },
        "id": "-MJPGJBsTsCf",
        "outputId": "b259a9ef-20cf-42dc-f43e-91a7efb1c2b3"
      },
      "execution_count": 25,
      "outputs": [
        {
          "output_type": "display_data",
          "data": {
            "text/plain": [
              "<IPython.core.display.Javascript object>"
            ],
            "application/javascript": [
              "\n",
              "    async function download(id, filename, size) {\n",
              "      if (!google.colab.kernel.accessAllowed) {\n",
              "        return;\n",
              "      }\n",
              "      const div = document.createElement('div');\n",
              "      const label = document.createElement('label');\n",
              "      label.textContent = `Downloading \"${filename}\": `;\n",
              "      div.appendChild(label);\n",
              "      const progress = document.createElement('progress');\n",
              "      progress.max = size;\n",
              "      div.appendChild(progress);\n",
              "      document.body.appendChild(div);\n",
              "\n",
              "      const buffers = [];\n",
              "      let downloaded = 0;\n",
              "\n",
              "      const channel = await google.colab.kernel.comms.open(id);\n",
              "      // Send a message to notify the kernel that we're ready.\n",
              "      channel.send({})\n",
              "\n",
              "      for await (const message of channel.messages) {\n",
              "        // Send a message to notify the kernel that we're ready.\n",
              "        channel.send({})\n",
              "        if (message.buffers) {\n",
              "          for (const buffer of message.buffers) {\n",
              "            buffers.push(buffer);\n",
              "            downloaded += buffer.byteLength;\n",
              "            progress.value = downloaded;\n",
              "          }\n",
              "        }\n",
              "      }\n",
              "      const blob = new Blob(buffers, {type: 'application/binary'});\n",
              "      const a = document.createElement('a');\n",
              "      a.href = window.URL.createObjectURL(blob);\n",
              "      a.download = filename;\n",
              "      div.appendChild(a);\n",
              "      a.click();\n",
              "      div.remove();\n",
              "    }\n",
              "  "
            ]
          },
          "metadata": {}
        },
        {
          "output_type": "display_data",
          "data": {
            "text/plain": [
              "<IPython.core.display.Javascript object>"
            ],
            "application/javascript": [
              "download(\"download_0303be1b-210c-4b52-9c78-a98742de6818\", \"cleaned_yoomix.csv\", 6338525)"
            ]
          },
          "metadata": {}
        }
      ]
    },
    {
      "cell_type": "code",
      "source": [
        "import pandas as pd\n",
        "\n",
        "df = pd.read_csv('cleaned_yoomix.csv', sep=';', on_bad_lines='skip')\n",
        "\n",
        "print(df.head())\n",
        "\n",
        "df[df.isnull().any(axis=1)]"
      ],
      "metadata": {
        "colab": {
          "base_uri": "https://localhost:8080/",
          "height": 157
        },
        "id": "xdF9-BdKTx7D",
        "outputId": "d7401293-577c-465e-90ff-cbb458b02f6f"
      },
      "execution_count": 26,
      "outputs": [
        {
          "output_type": "stream",
          "name": "stdout",
          "text": [
            "  address_id,customer_id,firstname,lastname,company,address_1,address_2,city,postcode,country_id,zone_id,custom_field\n",
            "0  23,340,Nareelis,Jakoba,Building Depot Trading ...                                                                 \n",
            "1  28,327,NASEEM,OMAR,NASIMI INTERIORS LTD,\"PLAZA...                                                                 \n",
            "2  30,352,vimal,vimal,,varacha,varacha,surat,3950...                                                                 \n",
            "3  32,336,Danny,Scaunich,Test,123 Test st,,Dubai,...                                                                 \n",
            "4  33,33,vimal,vimal,,varacha,varacha,surat,39501...                                                                 \n"
          ]
        },
        {
          "output_type": "execute_result",
          "data": {
            "text/plain": [
              "Empty DataFrame\n",
              "Columns: [address_id,customer_id,firstname,lastname,company,address_1,address_2,city,postcode,country_id,zone_id,custom_field]\n",
              "Index: []"
            ],
            "text/html": [
              "\n",
              "  <div id=\"df-312b8535-8ca9-4dd5-b232-486358c9f104\" class=\"colab-df-container\">\n",
              "    <div>\n",
              "<style scoped>\n",
              "    .dataframe tbody tr th:only-of-type {\n",
              "        vertical-align: middle;\n",
              "    }\n",
              "\n",
              "    .dataframe tbody tr th {\n",
              "        vertical-align: top;\n",
              "    }\n",
              "\n",
              "    .dataframe thead th {\n",
              "        text-align: right;\n",
              "    }\n",
              "</style>\n",
              "<table border=\"1\" class=\"dataframe\">\n",
              "  <thead>\n",
              "    <tr style=\"text-align: right;\">\n",
              "      <th></th>\n",
              "      <th>address_id,customer_id,firstname,lastname,company,address_1,address_2,city,postcode,country_id,zone_id,custom_field</th>\n",
              "    </tr>\n",
              "  </thead>\n",
              "  <tbody>\n",
              "  </tbody>\n",
              "</table>\n",
              "</div>\n",
              "    <div class=\"colab-df-buttons\">\n",
              "\n",
              "  <div class=\"colab-df-container\">\n",
              "    <button class=\"colab-df-convert\" onclick=\"convertToInteractive('df-312b8535-8ca9-4dd5-b232-486358c9f104')\"\n",
              "            title=\"Convert this dataframe to an interactive table.\"\n",
              "            style=\"display:none;\">\n",
              "\n",
              "  <svg xmlns=\"http://www.w3.org/2000/svg\" height=\"24px\" viewBox=\"0 -960 960 960\">\n",
              "    <path d=\"M120-120v-720h720v720H120Zm60-500h600v-160H180v160Zm220 220h160v-160H400v160Zm0 220h160v-160H400v160ZM180-400h160v-160H180v160Zm440 0h160v-160H620v160ZM180-180h160v-160H180v160Zm440 0h160v-160H620v160Z\"/>\n",
              "  </svg>\n",
              "    </button>\n",
              "\n",
              "  <style>\n",
              "    .colab-df-container {\n",
              "      display:flex;\n",
              "      gap: 12px;\n",
              "    }\n",
              "\n",
              "    .colab-df-convert {\n",
              "      background-color: #E8F0FE;\n",
              "      border: none;\n",
              "      border-radius: 50%;\n",
              "      cursor: pointer;\n",
              "      display: none;\n",
              "      fill: #1967D2;\n",
              "      height: 32px;\n",
              "      padding: 0 0 0 0;\n",
              "      width: 32px;\n",
              "    }\n",
              "\n",
              "    .colab-df-convert:hover {\n",
              "      background-color: #E2EBFA;\n",
              "      box-shadow: 0px 1px 2px rgba(60, 64, 67, 0.3), 0px 1px 3px 1px rgba(60, 64, 67, 0.15);\n",
              "      fill: #174EA6;\n",
              "    }\n",
              "\n",
              "    .colab-df-buttons div {\n",
              "      margin-bottom: 4px;\n",
              "    }\n",
              "\n",
              "    [theme=dark] .colab-df-convert {\n",
              "      background-color: #3B4455;\n",
              "      fill: #D2E3FC;\n",
              "    }\n",
              "\n",
              "    [theme=dark] .colab-df-convert:hover {\n",
              "      background-color: #434B5C;\n",
              "      box-shadow: 0px 1px 3px 1px rgba(0, 0, 0, 0.15);\n",
              "      filter: drop-shadow(0px 1px 2px rgba(0, 0, 0, 0.3));\n",
              "      fill: #FFFFFF;\n",
              "    }\n",
              "  </style>\n",
              "\n",
              "    <script>\n",
              "      const buttonEl =\n",
              "        document.querySelector('#df-312b8535-8ca9-4dd5-b232-486358c9f104 button.colab-df-convert');\n",
              "      buttonEl.style.display =\n",
              "        google.colab.kernel.accessAllowed ? 'block' : 'none';\n",
              "\n",
              "      async function convertToInteractive(key) {\n",
              "        const element = document.querySelector('#df-312b8535-8ca9-4dd5-b232-486358c9f104');\n",
              "        const dataTable =\n",
              "          await google.colab.kernel.invokeFunction('convertToInteractive',\n",
              "                                                    [key], {});\n",
              "        if (!dataTable) return;\n",
              "\n",
              "        const docLinkHtml = 'Like what you see? Visit the ' +\n",
              "          '<a target=\"_blank\" href=https://colab.research.google.com/notebooks/data_table.ipynb>data table notebook</a>'\n",
              "          + ' to learn more about interactive tables.';\n",
              "        element.innerHTML = '';\n",
              "        dataTable['output_type'] = 'display_data';\n",
              "        await google.colab.output.renderOutput(dataTable, element);\n",
              "        const docLink = document.createElement('div');\n",
              "        docLink.innerHTML = docLinkHtml;\n",
              "        element.appendChild(docLink);\n",
              "      }\n",
              "    </script>\n",
              "  </div>\n",
              "\n",
              "\n",
              "    </div>\n",
              "  </div>\n"
            ],
            "application/vnd.google.colaboratory.intrinsic+json": {
              "type": "dataframe",
              "repr_error": "Out of range float values are not JSON compliant: nan"
            }
          },
          "metadata": {},
          "execution_count": 26
        }
      ]
    },
    {
      "cell_type": "code",
      "source": [
        "df.to_csv('cleaned_yoomix_final.csv', index=False)\n",
        "\n",
        "from google.colab import files\n",
        "files.download('cleaned_yoomix_final.csv')"
      ],
      "metadata": {
        "colab": {
          "base_uri": "https://localhost:8080/",
          "height": 17
        },
        "id": "AsQk_ek-Wrqt",
        "outputId": "8761d880-2004-4d79-c8f1-35196adc8274"
      },
      "execution_count": 27,
      "outputs": [
        {
          "output_type": "display_data",
          "data": {
            "text/plain": [
              "<IPython.core.display.Javascript object>"
            ],
            "application/javascript": [
              "\n",
              "    async function download(id, filename, size) {\n",
              "      if (!google.colab.kernel.accessAllowed) {\n",
              "        return;\n",
              "      }\n",
              "      const div = document.createElement('div');\n",
              "      const label = document.createElement('label');\n",
              "      label.textContent = `Downloading \"${filename}\": `;\n",
              "      div.appendChild(label);\n",
              "      const progress = document.createElement('progress');\n",
              "      progress.max = size;\n",
              "      div.appendChild(progress);\n",
              "      document.body.appendChild(div);\n",
              "\n",
              "      const buffers = [];\n",
              "      let downloaded = 0;\n",
              "\n",
              "      const channel = await google.colab.kernel.comms.open(id);\n",
              "      // Send a message to notify the kernel that we're ready.\n",
              "      channel.send({})\n",
              "\n",
              "      for await (const message of channel.messages) {\n",
              "        // Send a message to notify the kernel that we're ready.\n",
              "        channel.send({})\n",
              "        if (message.buffers) {\n",
              "          for (const buffer of message.buffers) {\n",
              "            buffers.push(buffer);\n",
              "            downloaded += buffer.byteLength;\n",
              "            progress.value = downloaded;\n",
              "          }\n",
              "        }\n",
              "      }\n",
              "      const blob = new Blob(buffers, {type: 'application/binary'});\n",
              "      const a = document.createElement('a');\n",
              "      a.href = window.URL.createObjectURL(blob);\n",
              "      a.download = filename;\n",
              "      div.appendChild(a);\n",
              "      a.click();\n",
              "      div.remove();\n",
              "    }\n",
              "  "
            ]
          },
          "metadata": {}
        },
        {
          "output_type": "display_data",
          "data": {
            "text/plain": [
              "<IPython.core.display.Javascript object>"
            ],
            "application/javascript": [
              "download(\"download_cbc5e6e5-fe47-446c-8925-b7f52ee36336\", \"cleaned_yoomix_final.csv\", 5816519)"
            ]
          },
          "metadata": {}
        }
      ]
    },
    {
      "cell_type": "code",
      "source": [
        "expected_columns = len(df.columns)\n",
        "incorrect_rows = df[df.apply(lambda row: len(row) != expected_columns, axis=1)]\n",
        "print(incorrect_rows)\n"
      ],
      "metadata": {
        "colab": {
          "base_uri": "https://localhost:8080/"
        },
        "id": "RXJjhcKxWviw",
        "outputId": "a7b87b8c-7cb7-4354-f645-2f4f43e7d012"
      },
      "execution_count": 28,
      "outputs": [
        {
          "output_type": "stream",
          "name": "stdout",
          "text": [
            "Empty DataFrame\n",
            "Columns: [address_id,customer_id,firstname,lastname,company,address_1,address_2,city,postcode,country_id,zone_id,custom_field]\n",
            "Index: []\n"
          ]
        }
      ]
    },
    {
      "cell_type": "code",
      "source": [
        "df_cleaned = df[df.apply(lambda row: len(row) == expected_columns, axis=1)]"
      ],
      "metadata": {
        "id": "iyV29CRUXcEG"
      },
      "execution_count": 29,
      "outputs": []
    },
    {
      "cell_type": "code",
      "source": [
        "df_cleaned.to_csv('cleaned_yoomix_final.csv', index=False)"
      ],
      "metadata": {
        "id": "bWd1EKksXiTt"
      },
      "execution_count": 30,
      "outputs": []
    },
    {
      "cell_type": "code",
      "source": [
        "from google.colab import files\n",
        "files.download('cleaned_yoomix_final.csv')"
      ],
      "metadata": {
        "colab": {
          "base_uri": "https://localhost:8080/",
          "height": 17
        },
        "id": "XwrrEhELXnwH",
        "outputId": "ea4a6dbe-54d4-4f51-d475-36c800eb72ac"
      },
      "execution_count": 31,
      "outputs": [
        {
          "output_type": "display_data",
          "data": {
            "text/plain": [
              "<IPython.core.display.Javascript object>"
            ],
            "application/javascript": [
              "\n",
              "    async function download(id, filename, size) {\n",
              "      if (!google.colab.kernel.accessAllowed) {\n",
              "        return;\n",
              "      }\n",
              "      const div = document.createElement('div');\n",
              "      const label = document.createElement('label');\n",
              "      label.textContent = `Downloading \"${filename}\": `;\n",
              "      div.appendChild(label);\n",
              "      const progress = document.createElement('progress');\n",
              "      progress.max = size;\n",
              "      div.appendChild(progress);\n",
              "      document.body.appendChild(div);\n",
              "\n",
              "      const buffers = [];\n",
              "      let downloaded = 0;\n",
              "\n",
              "      const channel = await google.colab.kernel.comms.open(id);\n",
              "      // Send a message to notify the kernel that we're ready.\n",
              "      channel.send({})\n",
              "\n",
              "      for await (const message of channel.messages) {\n",
              "        // Send a message to notify the kernel that we're ready.\n",
              "        channel.send({})\n",
              "        if (message.buffers) {\n",
              "          for (const buffer of message.buffers) {\n",
              "            buffers.push(buffer);\n",
              "            downloaded += buffer.byteLength;\n",
              "            progress.value = downloaded;\n",
              "          }\n",
              "        }\n",
              "      }\n",
              "      const blob = new Blob(buffers, {type: 'application/binary'});\n",
              "      const a = document.createElement('a');\n",
              "      a.href = window.URL.createObjectURL(blob);\n",
              "      a.download = filename;\n",
              "      div.appendChild(a);\n",
              "      a.click();\n",
              "      div.remove();\n",
              "    }\n",
              "  "
            ]
          },
          "metadata": {}
        },
        {
          "output_type": "display_data",
          "data": {
            "text/plain": [
              "<IPython.core.display.Javascript object>"
            ],
            "application/javascript": [
              "download(\"download_27d2e4a0-bdca-4b22-aff6-227cdbed2c2d\", \"cleaned_yoomix_final.csv\", 5816519)"
            ]
          },
          "metadata": {}
        }
      ]
    },
    {
      "cell_type": "code",
      "source": [
        "import pandas as pd\n",
        "\n",
        "df = pd.read_csv('cleaned_yoomix.csv')\n",
        "\n",
        "print(df.head())\n"
      ],
      "metadata": {
        "colab": {
          "base_uri": "https://localhost:8080/"
        },
        "id": "pL2P947RXqs-",
        "outputId": "843b422a-3eb8-4508-a70d-1d7946805eb4"
      },
      "execution_count": 32,
      "outputs": [
        {
          "output_type": "stream",
          "name": "stdout",
          "text": [
            "  address_id customer_id firstname  lastname                      company  \\\n",
            "0         23         340  Nareelis    Jakoba  Building Depot Trading B.V.   \n",
            "1         28         327    NASEEM      OMAR         NASIMI INTERIORS LTD   \n",
            "2         30         352     vimal     vimal                          NaN   \n",
            "3         32         336     Danny  Scaunich                         Test   \n",
            "4         33          33     vimal     vimal                          NaN   \n",
            "\n",
            "                          address_1 address_2        city    postcode  \\\n",
            "0                       Erieweg z/n       NaN  Willemstad         NaN   \n",
            "1  PLAZA 2000 MOMBASA ROAD, NAIROBI       NaN     NAIROBI  27709-0050   \n",
            "2                           varacha   varacha       surat      395010   \n",
            "3                       123 Test st       NaN       Dubai         NaN   \n",
            "4                           varacha   varacha       surat      395010   \n",
            "\n",
            "  country_id zone_id custom_field  \n",
            "0        246       0          NaN  \n",
            "1        110    1736          NaN  \n",
            "2         99    1492          NaN  \n",
            "3        221    3510          NaN  \n",
            "4         99    1491          NaN  \n"
          ]
        }
      ]
    },
    {
      "cell_type": "code",
      "source": [
        "customer_data = df[['firstname', 'lastname', 'phone', 'email', 'order_history', 'city', 'postcode', 'customer_id', 'ordered_products', 'ordered_record']]\n",
        "\n",
        "print(customer_data.head())"
      ],
      "metadata": {
        "colab": {
          "base_uri": "https://localhost:8080/",
          "height": 321
        },
        "id": "pU8pf48qZeqQ",
        "outputId": "3d63922b-f869-4a1a-f7e8-41113b1cb1cf"
      },
      "execution_count": 33,
      "outputs": [
        {
          "output_type": "error",
          "ename": "KeyError",
          "evalue": "\"['phone', 'email', 'order_history', 'ordered_products', 'ordered_record'] not in index\"",
          "traceback": [
            "\u001b[0;31m---------------------------------------------------------------------------\u001b[0m",
            "\u001b[0;31mKeyError\u001b[0m                                  Traceback (most recent call last)",
            "\u001b[0;32m<ipython-input-33-7be4f328e15e>\u001b[0m in \u001b[0;36m<cell line: 1>\u001b[0;34m()\u001b[0m\n\u001b[0;32m----> 1\u001b[0;31m \u001b[0mcustomer_data\u001b[0m \u001b[0;34m=\u001b[0m \u001b[0mdf\u001b[0m\u001b[0;34m[\u001b[0m\u001b[0;34m[\u001b[0m\u001b[0;34m'firstname'\u001b[0m\u001b[0;34m,\u001b[0m \u001b[0;34m'lastname'\u001b[0m\u001b[0;34m,\u001b[0m \u001b[0;34m'phone'\u001b[0m\u001b[0;34m,\u001b[0m \u001b[0;34m'email'\u001b[0m\u001b[0;34m,\u001b[0m \u001b[0;34m'order_history'\u001b[0m\u001b[0;34m,\u001b[0m \u001b[0;34m'city'\u001b[0m\u001b[0;34m,\u001b[0m \u001b[0;34m'postcode'\u001b[0m\u001b[0;34m,\u001b[0m \u001b[0;34m'customer_id'\u001b[0m\u001b[0;34m,\u001b[0m \u001b[0;34m'ordered_products'\u001b[0m\u001b[0;34m,\u001b[0m \u001b[0;34m'ordered_record'\u001b[0m\u001b[0;34m]\u001b[0m\u001b[0;34m]\u001b[0m\u001b[0;34m\u001b[0m\u001b[0;34m\u001b[0m\u001b[0m\n\u001b[0m\u001b[1;32m      2\u001b[0m \u001b[0;34m\u001b[0m\u001b[0m\n\u001b[1;32m      3\u001b[0m \u001b[0mprint\u001b[0m\u001b[0;34m(\u001b[0m\u001b[0mcustomer_data\u001b[0m\u001b[0;34m.\u001b[0m\u001b[0mhead\u001b[0m\u001b[0;34m(\u001b[0m\u001b[0;34m)\u001b[0m\u001b[0;34m)\u001b[0m\u001b[0;34m\u001b[0m\u001b[0;34m\u001b[0m\u001b[0m\n",
            "\u001b[0;32m/usr/local/lib/python3.10/dist-packages/pandas/core/frame.py\u001b[0m in \u001b[0;36m__getitem__\u001b[0;34m(self, key)\u001b[0m\n\u001b[1;32m   4106\u001b[0m             \u001b[0;32mif\u001b[0m \u001b[0mis_iterator\u001b[0m\u001b[0;34m(\u001b[0m\u001b[0mkey\u001b[0m\u001b[0;34m)\u001b[0m\u001b[0;34m:\u001b[0m\u001b[0;34m\u001b[0m\u001b[0;34m\u001b[0m\u001b[0m\n\u001b[1;32m   4107\u001b[0m                 \u001b[0mkey\u001b[0m \u001b[0;34m=\u001b[0m \u001b[0mlist\u001b[0m\u001b[0;34m(\u001b[0m\u001b[0mkey\u001b[0m\u001b[0;34m)\u001b[0m\u001b[0;34m\u001b[0m\u001b[0;34m\u001b[0m\u001b[0m\n\u001b[0;32m-> 4108\u001b[0;31m             \u001b[0mindexer\u001b[0m \u001b[0;34m=\u001b[0m \u001b[0mself\u001b[0m\u001b[0;34m.\u001b[0m\u001b[0mcolumns\u001b[0m\u001b[0;34m.\u001b[0m\u001b[0m_get_indexer_strict\u001b[0m\u001b[0;34m(\u001b[0m\u001b[0mkey\u001b[0m\u001b[0;34m,\u001b[0m \u001b[0;34m\"columns\"\u001b[0m\u001b[0;34m)\u001b[0m\u001b[0;34m[\u001b[0m\u001b[0;36m1\u001b[0m\u001b[0;34m]\u001b[0m\u001b[0;34m\u001b[0m\u001b[0;34m\u001b[0m\u001b[0m\n\u001b[0m\u001b[1;32m   4109\u001b[0m \u001b[0;34m\u001b[0m\u001b[0m\n\u001b[1;32m   4110\u001b[0m         \u001b[0;31m# take() does not accept boolean indexers\u001b[0m\u001b[0;34m\u001b[0m\u001b[0;34m\u001b[0m\u001b[0m\n",
            "\u001b[0;32m/usr/local/lib/python3.10/dist-packages/pandas/core/indexes/base.py\u001b[0m in \u001b[0;36m_get_indexer_strict\u001b[0;34m(self, key, axis_name)\u001b[0m\n\u001b[1;32m   6198\u001b[0m             \u001b[0mkeyarr\u001b[0m\u001b[0;34m,\u001b[0m \u001b[0mindexer\u001b[0m\u001b[0;34m,\u001b[0m \u001b[0mnew_indexer\u001b[0m \u001b[0;34m=\u001b[0m \u001b[0mself\u001b[0m\u001b[0;34m.\u001b[0m\u001b[0m_reindex_non_unique\u001b[0m\u001b[0;34m(\u001b[0m\u001b[0mkeyarr\u001b[0m\u001b[0;34m)\u001b[0m\u001b[0;34m\u001b[0m\u001b[0;34m\u001b[0m\u001b[0m\n\u001b[1;32m   6199\u001b[0m \u001b[0;34m\u001b[0m\u001b[0m\n\u001b[0;32m-> 6200\u001b[0;31m         \u001b[0mself\u001b[0m\u001b[0;34m.\u001b[0m\u001b[0m_raise_if_missing\u001b[0m\u001b[0;34m(\u001b[0m\u001b[0mkeyarr\u001b[0m\u001b[0;34m,\u001b[0m \u001b[0mindexer\u001b[0m\u001b[0;34m,\u001b[0m \u001b[0maxis_name\u001b[0m\u001b[0;34m)\u001b[0m\u001b[0;34m\u001b[0m\u001b[0;34m\u001b[0m\u001b[0m\n\u001b[0m\u001b[1;32m   6201\u001b[0m \u001b[0;34m\u001b[0m\u001b[0m\n\u001b[1;32m   6202\u001b[0m         \u001b[0mkeyarr\u001b[0m \u001b[0;34m=\u001b[0m \u001b[0mself\u001b[0m\u001b[0;34m.\u001b[0m\u001b[0mtake\u001b[0m\u001b[0;34m(\u001b[0m\u001b[0mindexer\u001b[0m\u001b[0;34m)\u001b[0m\u001b[0;34m\u001b[0m\u001b[0;34m\u001b[0m\u001b[0m\n",
            "\u001b[0;32m/usr/local/lib/python3.10/dist-packages/pandas/core/indexes/base.py\u001b[0m in \u001b[0;36m_raise_if_missing\u001b[0;34m(self, key, indexer, axis_name)\u001b[0m\n\u001b[1;32m   6250\u001b[0m \u001b[0;34m\u001b[0m\u001b[0m\n\u001b[1;32m   6251\u001b[0m             \u001b[0mnot_found\u001b[0m \u001b[0;34m=\u001b[0m \u001b[0mlist\u001b[0m\u001b[0;34m(\u001b[0m\u001b[0mensure_index\u001b[0m\u001b[0;34m(\u001b[0m\u001b[0mkey\u001b[0m\u001b[0;34m)\u001b[0m\u001b[0;34m[\u001b[0m\u001b[0mmissing_mask\u001b[0m\u001b[0;34m.\u001b[0m\u001b[0mnonzero\u001b[0m\u001b[0;34m(\u001b[0m\u001b[0;34m)\u001b[0m\u001b[0;34m[\u001b[0m\u001b[0;36m0\u001b[0m\u001b[0;34m]\u001b[0m\u001b[0;34m]\u001b[0m\u001b[0;34m.\u001b[0m\u001b[0munique\u001b[0m\u001b[0;34m(\u001b[0m\u001b[0;34m)\u001b[0m\u001b[0;34m)\u001b[0m\u001b[0;34m\u001b[0m\u001b[0;34m\u001b[0m\u001b[0m\n\u001b[0;32m-> 6252\u001b[0;31m             \u001b[0;32mraise\u001b[0m \u001b[0mKeyError\u001b[0m\u001b[0;34m(\u001b[0m\u001b[0;34mf\"{not_found} not in index\"\u001b[0m\u001b[0;34m)\u001b[0m\u001b[0;34m\u001b[0m\u001b[0;34m\u001b[0m\u001b[0m\n\u001b[0m\u001b[1;32m   6253\u001b[0m \u001b[0;34m\u001b[0m\u001b[0m\n\u001b[1;32m   6254\u001b[0m     \u001b[0;34m@\u001b[0m\u001b[0moverload\u001b[0m\u001b[0;34m\u001b[0m\u001b[0;34m\u001b[0m\u001b[0m\n",
            "\u001b[0;31mKeyError\u001b[0m: \"['phone', 'email', 'order_history', 'ordered_products', 'ordered_record'] not in index\""
          ]
        }
      ]
    },
    {
      "cell_type": "code",
      "source": [
        "print(df.columns.tolist())"
      ],
      "metadata": {
        "colab": {
          "base_uri": "https://localhost:8080/"
        },
        "id": "1Wn8-62JZkXu",
        "outputId": "d0e63dab-38e6-4512-815e-a2b4a84078e2"
      },
      "execution_count": 34,
      "outputs": [
        {
          "output_type": "stream",
          "name": "stdout",
          "text": [
            "['address_id', 'customer_id', 'firstname', 'lastname', 'company', 'address_1', 'address_2', 'city', 'postcode', 'country_id', 'zone_id', 'custom_field']\n"
          ]
        }
      ]
    },
    {
      "cell_type": "code",
      "source": [
        "columns_to_keep = ['firstname', 'lastname', 'country_id', 'city', 'postcode', 'customer_id', 'address_id']\n",
        "\n",
        "customer_data = df[columns_to_keep]\n",
        "\n",
        "print(customer_data.head())\n",
        "\n",
        "customer_data.to_csv('cleaned_customer_data.csv', index=False)\n",
        "\n",
        "from google.colab import files\n",
        "files.download('cleaned_customer_data.csv')"
      ],
      "metadata": {
        "colab": {
          "base_uri": "https://localhost:8080/",
          "height": 243
        },
        "id": "0RaaPaNRaHvg",
        "outputId": "e3dde5ff-eedb-410f-a18a-61583fc4ef4f"
      },
      "execution_count": 35,
      "outputs": [
        {
          "output_type": "stream",
          "name": "stdout",
          "text": [
            "  firstname  lastname country_id        city    postcode customer_id  \\\n",
            "0  Nareelis    Jakoba        246  Willemstad         NaN         340   \n",
            "1    NASEEM      OMAR        110     NAIROBI  27709-0050         327   \n",
            "2     vimal     vimal         99       surat      395010         352   \n",
            "3     Danny  Scaunich        221       Dubai         NaN         336   \n",
            "4     vimal     vimal         99       surat      395010          33   \n",
            "\n",
            "  address_id  \n",
            "0         23  \n",
            "1         28  \n",
            "2         30  \n",
            "3         32  \n",
            "4         33  \n"
          ]
        },
        {
          "output_type": "display_data",
          "data": {
            "text/plain": [
              "<IPython.core.display.Javascript object>"
            ],
            "application/javascript": [
              "\n",
              "    async function download(id, filename, size) {\n",
              "      if (!google.colab.kernel.accessAllowed) {\n",
              "        return;\n",
              "      }\n",
              "      const div = document.createElement('div');\n",
              "      const label = document.createElement('label');\n",
              "      label.textContent = `Downloading \"${filename}\": `;\n",
              "      div.appendChild(label);\n",
              "      const progress = document.createElement('progress');\n",
              "      progress.max = size;\n",
              "      div.appendChild(progress);\n",
              "      document.body.appendChild(div);\n",
              "\n",
              "      const buffers = [];\n",
              "      let downloaded = 0;\n",
              "\n",
              "      const channel = await google.colab.kernel.comms.open(id);\n",
              "      // Send a message to notify the kernel that we're ready.\n",
              "      channel.send({})\n",
              "\n",
              "      for await (const message of channel.messages) {\n",
              "        // Send a message to notify the kernel that we're ready.\n",
              "        channel.send({})\n",
              "        if (message.buffers) {\n",
              "          for (const buffer of message.buffers) {\n",
              "            buffers.push(buffer);\n",
              "            downloaded += buffer.byteLength;\n",
              "            progress.value = downloaded;\n",
              "          }\n",
              "        }\n",
              "      }\n",
              "      const blob = new Blob(buffers, {type: 'application/binary'});\n",
              "      const a = document.createElement('a');\n",
              "      a.href = window.URL.createObjectURL(blob);\n",
              "      a.download = filename;\n",
              "      div.appendChild(a);\n",
              "      a.click();\n",
              "      div.remove();\n",
              "    }\n",
              "  "
            ]
          },
          "metadata": {}
        },
        {
          "output_type": "display_data",
          "data": {
            "text/plain": [
              "<IPython.core.display.Javascript object>"
            ],
            "application/javascript": [
              "download(\"download_b6f61d67-44b9-417e-8e13-04d994ebcc0e\", \"cleaned_customer_data.csv\", 5740107)"
            ]
          },
          "metadata": {}
        }
      ]
    },
    {
      "cell_type": "code",
      "source": [
        "print(customer_data.head(20))\n",
        "print(customer_data['firstname'].unique())\n",
        "\n",
        "cleaned_customer_data = customer_data[\n",
        "    (customer_data['firstname'].notnull()) &\n",
        "    (customer_data['lastname'].notnull())\n",
        "]\n",
        "\n",
        "print(cleaned_customer_data.head())\n",
        "\n",
        "cleaned_customer_data.to_csv('final_cleaned_customer_data.csv', index=False)\n",
        "\n",
        "from google.colab import files\n",
        "files.download('final_cleaned_customer_data.csv')\n"
      ],
      "metadata": {
        "colab": {
          "base_uri": "https://localhost:8080/",
          "height": 1000
        },
        "id": "67o2fT-RcccW",
        "outputId": "854a7013-7a16-424e-d880-c8caacced961"
      },
      "execution_count": 36,
      "outputs": [
        {
          "output_type": "stream",
          "name": "stdout",
          "text": [
            "                    firstname                 lastname     country_id  \\\n",
            "0                    Nareelis                   Jakoba            246   \n",
            "1                      NASEEM                     OMAR            110   \n",
            "2                       vimal                    vimal             99   \n",
            "3                       Danny                 Scaunich            221   \n",
            "4                       vimal                    vimal             99   \n",
            "5                      Rashel                   Sheikh             18   \n",
            "6                     Daniel                    Norman            153   \n",
            "7                       Craig                   Salter            153   \n",
            "8                         Tom                   McKimm            153   \n",
            "9                       vimal                    vimal             99   \n",
            "10                      Trent                   Barton            153   \n",
            "11                    GABORIT                   MAXIME            137   \n",
            "12                    GABORIT                   MAXIME            137   \n",
            "13                   Lorenda                   Rounds             223   \n",
            "14                      vimal                    vimal             99   \n",
            "15                       KIM                    BAXTER             13   \n",
            "16                       Ross                  Clayton             13   \n",
            "17                  stripe_id               date_added            NaN   \n",
            "18  amazon_order_reference_id  amazon_authorization_id  refund_status   \n",
            "19    amazon_authorization_id        amazon_capture_id            NaN   \n",
            "\n",
            "               city       postcode                customer_id  \\\n",
            "0        Willemstad            NaN                        340   \n",
            "1           NAIROBI     27709-0050                        327   \n",
            "2             surat         395010                        352   \n",
            "3             Dubai            NaN                        336   \n",
            "4             surat         395010                         33   \n",
            "5           Rajbari           7722                        400   \n",
            "6           Ahuriri            NaN                        410   \n",
            "7           Ahuriri           4141                        338   \n",
            "8           Ahuriri           4141                        411   \n",
            "9             surat         395010                        407   \n",
            "10            Levin           5510                         69   \n",
            "11        Mamoudzou          97600                         33   \n",
            "12        Mamoudzou          97600                         33   \n",
            "13           Euless          76039                        424   \n",
            "14            surat         395010                        386   \n",
            "15  South Melbourne           3205                        422   \n",
            "16            Miami           4220                        422   \n",
            "17              NaN            NaN             oc_customer_id   \n",
            "18   capture_status  cancel_status                   order_id   \n",
            "19           status         amount  amazon_login_pay_order_id   \n",
            "\n",
            "                               address_id  \n",
            "0                                      23  \n",
            "1                                      28  \n",
            "2                                      30  \n",
            "3                                      32  \n",
            "4                                      33  \n",
            "5                                      35  \n",
            "6                                      36  \n",
            "7                                      37  \n",
            "8                                      38  \n",
            "9                                      41  \n",
            "10                                     42  \n",
            "11                                     43  \n",
            "12                                     44  \n",
            "13                                     49  \n",
            "14                                     46  \n",
            "15                                     47  \n",
            "16                                     48  \n",
            "17                                     id  \n",
            "18              amazon_login_pay_order_id  \n",
            "19  amazon_login_pay_order_transaction_id  \n",
            "['Nareelis' 'NASEEM' 'vimal' ... '3954' '3955' '3972']\n",
            "  firstname  lastname country_id        city    postcode customer_id  \\\n",
            "0  Nareelis    Jakoba        246  Willemstad         NaN         340   \n",
            "1    NASEEM      OMAR        110     NAIROBI  27709-0050         327   \n",
            "2     vimal     vimal         99       surat      395010         352   \n",
            "3     Danny  Scaunich        221       Dubai         NaN         336   \n",
            "4     vimal     vimal         99       surat      395010          33   \n",
            "\n",
            "  address_id  \n",
            "0         23  \n",
            "1         28  \n",
            "2         30  \n",
            "3         32  \n",
            "4         33  \n"
          ]
        },
        {
          "output_type": "display_data",
          "data": {
            "text/plain": [
              "<IPython.core.display.Javascript object>"
            ],
            "application/javascript": [
              "\n",
              "    async function download(id, filename, size) {\n",
              "      if (!google.colab.kernel.accessAllowed) {\n",
              "        return;\n",
              "      }\n",
              "      const div = document.createElement('div');\n",
              "      const label = document.createElement('label');\n",
              "      label.textContent = `Downloading \"${filename}\": `;\n",
              "      div.appendChild(label);\n",
              "      const progress = document.createElement('progress');\n",
              "      progress.max = size;\n",
              "      div.appendChild(progress);\n",
              "      document.body.appendChild(div);\n",
              "\n",
              "      const buffers = [];\n",
              "      let downloaded = 0;\n",
              "\n",
              "      const channel = await google.colab.kernel.comms.open(id);\n",
              "      // Send a message to notify the kernel that we're ready.\n",
              "      channel.send({})\n",
              "\n",
              "      for await (const message of channel.messages) {\n",
              "        // Send a message to notify the kernel that we're ready.\n",
              "        channel.send({})\n",
              "        if (message.buffers) {\n",
              "          for (const buffer of message.buffers) {\n",
              "            buffers.push(buffer);\n",
              "            downloaded += buffer.byteLength;\n",
              "            progress.value = downloaded;\n",
              "          }\n",
              "        }\n",
              "      }\n",
              "      const blob = new Blob(buffers, {type: 'application/binary'});\n",
              "      const a = document.createElement('a');\n",
              "      a.href = window.URL.createObjectURL(blob);\n",
              "      a.download = filename;\n",
              "      div.appendChild(a);\n",
              "      a.click();\n",
              "      div.remove();\n",
              "    }\n",
              "  "
            ]
          },
          "metadata": {}
        },
        {
          "output_type": "display_data",
          "data": {
            "text/plain": [
              "<IPython.core.display.Javascript object>"
            ],
            "application/javascript": [
              "download(\"download_0851233d-d999-4d8a-9175-463750699890\", \"final_cleaned_customer_data.csv\", 5467360)"
            ]
          },
          "metadata": {}
        }
      ]
    },
    {
      "cell_type": "code",
      "source": [],
      "metadata": {
        "id": "oCuhk-jsdhh4"
      },
      "execution_count": null,
      "outputs": []
    }
  ]
}